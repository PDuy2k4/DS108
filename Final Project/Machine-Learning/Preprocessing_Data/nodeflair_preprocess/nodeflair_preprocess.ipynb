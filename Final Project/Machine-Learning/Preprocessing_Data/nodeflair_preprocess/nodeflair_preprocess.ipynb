{
 "cells": [
  {
   "cell_type": "code",
   "execution_count": 1,
   "metadata": {},
   "outputs": [],
   "source": [
    "import pandas as pd \n",
    "import re"
   ]
  },
  {
   "cell_type": "code",
   "execution_count": 2,
   "metadata": {},
   "outputs": [],
   "source": [
    "nodeflair = pd.read_csv('nodeflair_data.csv')"
   ]
  },
  {
   "cell_type": "code",
   "execution_count": 3,
   "metadata": {},
   "outputs": [
    {
     "data": {
      "text/plain": [
       "0       ['Mid', 'Container', 'Next.js', 'CI', 'Modular...\n",
       "1                        ['Senior', 'R', 'SQL', 'Python']\n",
       "2       ['Junior', 'AWS', 'C++', 'Analytics', 'Storm',...\n",
       "3               ['Senior', 'Strategy', 'MySQL', 'Python']\n",
       "4       ['Mid', 'Docker', 'OOP', 'Git', 'Spark', 'SQL'...\n",
       "                              ...                        \n",
       "1037    ['Junior', 'Java', 'HTML', 'JavaScript', 'Reac...\n",
       "1038                    ['Junior', 'QC', 'QA', 'Testing']\n",
       "1039                                       ['Mid', 'TDD']\n",
       "1040    ['Mid', 'Senior', 'Lead', 'Powershell', 'C++',...\n",
       "1041      ['Mid', 'Senior', 'Lead', 'Android, 'IOT', 'C']\n",
       "Name: technical_skill, Length: 1042, dtype: object"
      ]
     },
     "execution_count": 3,
     "metadata": {},
     "output_type": "execute_result"
    }
   ],
   "source": [
    "nodeflair['technical_skill']"
   ]
  },
  {
   "cell_type": "code",
   "execution_count": 4,
   "metadata": {},
   "outputs": [],
   "source": [
    "nodeflair.drop_duplicates(subset=['company', 'technical_skill'], keep='first', inplace=True)"
   ]
  },
  {
   "cell_type": "code",
   "execution_count": 5,
   "metadata": {},
   "outputs": [
    {
     "name": "stdout",
     "output_type": "stream",
     "text": [
      "<class 'pandas.core.frame.DataFrame'>\n",
      "Index: 938 entries, 0 to 1041\n",
      "Data columns (total 5 columns):\n",
      " #   Column           Non-Null Count  Dtype \n",
      "---  ------           --------------  ----- \n",
      " 0   title            938 non-null    object\n",
      " 1   company          938 non-null    object\n",
      " 2   technical_skill  938 non-null    object\n",
      " 3   image_url        938 non-null    object\n",
      " 4   job_url          938 non-null    object\n",
      "dtypes: object(5)\n",
      "memory usage: 44.0+ KB\n"
     ]
    }
   ],
   "source": [
    "nodeflair.info()"
   ]
  },
  {
   "cell_type": "code",
   "execution_count": 6,
   "metadata": {},
   "outputs": [],
   "source": [
    "def remove_special_chars(skill_list):\n",
    "    pattern = r'[^a-zA-Z0-9+# ]'\n",
    "    processed_strings = [re.sub(pattern, '', s).strip() for s in skill_list]\n",
    "    \n",
    "    return processed_strings\n",
    "\n",
    "def split_by_slash(skill_list): \n",
    "    new_skills = [] \n",
    "    for skill in skill_list:\n",
    "        new_skills.extend(skill.split('/'))\n",
    "    \n",
    "    return new_skills\n",
    "\n",
    "def lowercase(skill_list):\n",
    "    new_skills = [] \n",
    "    for skill in skill_list:\n",
    "        new_skills.append(skill.lower())\n",
    "    \n",
    "    return new_skills\n",
    "\n",
    "sub_set = ['senior', 'junior', 'lead', 'mid', 'intern']\n",
    "def remove_specific_word(skill_list): \n",
    "    return [skill for skill in skill_list if skill not in sub_set]\n",
    "\n",
    "    "
   ]
  },
  {
   "cell_type": "code",
   "execution_count": 7,
   "metadata": {},
   "outputs": [],
   "source": [
    "nodeflair['technical_skill'] = nodeflair['technical_skill'].apply(lambda x: x.split(', '))\n",
    "nodeflair['technical_skill'] = nodeflair['technical_skill'].apply(remove_special_chars)  \n",
    "nodeflair['technical_skill'] = nodeflair['technical_skill'].apply(split_by_slash)\n",
    "nodeflair['technical_skill'] = nodeflair['technical_skill'].apply(lowercase) \n",
    "nodeflair['technical_skill'] = nodeflair['technical_skill'].apply(remove_specific_word)"
   ]
  },
  {
   "cell_type": "code",
   "execution_count": 8,
   "metadata": {},
   "outputs": [
    {
     "data": {
      "text/plain": [
       "0       [container, nextjs, ci, modular, scss, webpack...\n",
       "1                                        [r, sql, python]\n",
       "2       [aws, c++, analytics, storm, aurora, bigquery,...\n",
       "3                               [strategy, mysql, python]\n",
       "4                  [docker, oop, git, spark, sql, python]\n",
       "                              ...                        \n",
       "1037    [java, html, javascript, react, django, python...\n",
       "1038                                    [qc, qa, testing]\n",
       "1039                                                [tdd]\n",
       "1040    [powershell, c++, qt, matlab, git, linux, c, n...\n",
       "1041                                    [android, iot, c]\n",
       "Name: technical_skill, Length: 938, dtype: object"
      ]
     },
     "execution_count": 8,
     "metadata": {},
     "output_type": "execute_result"
    }
   ],
   "source": [
    "nodeflair['technical_skill'] "
   ]
  },
  {
   "cell_type": "code",
   "execution_count": 9,
   "metadata": {},
   "outputs": [
    {
     "data": {
      "text/html": [
       "<div>\n",
       "<style scoped>\n",
       "    .dataframe tbody tr th:only-of-type {\n",
       "        vertical-align: middle;\n",
       "    }\n",
       "\n",
       "    .dataframe tbody tr th {\n",
       "        vertical-align: top;\n",
       "    }\n",
       "\n",
       "    .dataframe thead th {\n",
       "        text-align: right;\n",
       "    }\n",
       "</style>\n",
       "<table border=\"1\" class=\"dataframe\">\n",
       "  <thead>\n",
       "    <tr style=\"text-align: right;\">\n",
       "      <th></th>\n",
       "      <th>title</th>\n",
       "      <th>company</th>\n",
       "      <th>technical_skill</th>\n",
       "      <th>image_url</th>\n",
       "      <th>job_url</th>\n",
       "    </tr>\n",
       "  </thead>\n",
       "  <tbody>\n",
       "    <tr>\n",
       "      <th>0</th>\n",
       "      <td>Frontend Developer (ReactJS, Typescript)</td>\n",
       "      <td>Renesas Electronics</td>\n",
       "      <td>[container, nextjs, ci, modular, scss, webpack...</td>\n",
       "      <td>https://nodeflair.com/api/v2/companies/715.png</td>\n",
       "      <td>https://nodeflair.com/jobs/renesas-electronics...</td>\n",
       "    </tr>\n",
       "    <tr>\n",
       "      <th>1</th>\n",
       "      <td>Senior Data Scientist – ALM</td>\n",
       "      <td>VPBank</td>\n",
       "      <td>[r, sql, python]</td>\n",
       "      <td>https://nodeflair.com/api/v2/companies/9859.png</td>\n",
       "      <td>https://nodeflair.com/jobs/vpbank-senior-data-...</td>\n",
       "    </tr>\n",
       "    <tr>\n",
       "      <th>2</th>\n",
       "      <td>Data Engineer</td>\n",
       "      <td>qode.world</td>\n",
       "      <td>[aws, c++, analytics, storm, aurora, bigquery,...</td>\n",
       "      <td>https://nodeflair.com/api/v2/companies/22132.png</td>\n",
       "      <td>https://nodeflair.com/jobs/qode-world-data-eng...</td>\n",
       "    </tr>\n",
       "    <tr>\n",
       "      <th>3</th>\n",
       "      <td>Senior Software Engineer - Data</td>\n",
       "      <td>qode.world</td>\n",
       "      <td>[strategy, mysql, python]</td>\n",
       "      <td>https://nodeflair.com/api/v2/companies/22132.png</td>\n",
       "      <td>https://nodeflair.com/jobs/qode-world-senior-s...</td>\n",
       "    </tr>\n",
       "    <tr>\n",
       "      <th>4</th>\n",
       "      <td>Data Scientist - Lending Model</td>\n",
       "      <td>Aboitiz Data Innovation</td>\n",
       "      <td>[docker, oop, git, spark, sql, python]</td>\n",
       "      <td>https://nodeflair.com/api/v2/companies/6176.png</td>\n",
       "      <td>https://nodeflair.com/jobs/aboitiz-data-innova...</td>\n",
       "    </tr>\n",
       "  </tbody>\n",
       "</table>\n",
       "</div>"
      ],
      "text/plain": [
       "                                      title                  company  \\\n",
       "0  Frontend Developer (ReactJS, Typescript)      Renesas Electronics   \n",
       "1               Senior Data Scientist – ALM                   VPBank   \n",
       "2                             Data Engineer               qode.world   \n",
       "3           Senior Software Engineer - Data               qode.world   \n",
       "4            Data Scientist - Lending Model  Aboitiz Data Innovation   \n",
       "\n",
       "                                     technical_skill  \\\n",
       "0  [container, nextjs, ci, modular, scss, webpack...   \n",
       "1                                   [r, sql, python]   \n",
       "2  [aws, c++, analytics, storm, aurora, bigquery,...   \n",
       "3                          [strategy, mysql, python]   \n",
       "4             [docker, oop, git, spark, sql, python]   \n",
       "\n",
       "                                          image_url  \\\n",
       "0    https://nodeflair.com/api/v2/companies/715.png   \n",
       "1   https://nodeflair.com/api/v2/companies/9859.png   \n",
       "2  https://nodeflair.com/api/v2/companies/22132.png   \n",
       "3  https://nodeflair.com/api/v2/companies/22132.png   \n",
       "4   https://nodeflair.com/api/v2/companies/6176.png   \n",
       "\n",
       "                                             job_url  \n",
       "0  https://nodeflair.com/jobs/renesas-electronics...  \n",
       "1  https://nodeflair.com/jobs/vpbank-senior-data-...  \n",
       "2  https://nodeflair.com/jobs/qode-world-data-eng...  \n",
       "3  https://nodeflair.com/jobs/qode-world-senior-s...  \n",
       "4  https://nodeflair.com/jobs/aboitiz-data-innova...  "
      ]
     },
     "execution_count": 9,
     "metadata": {},
     "output_type": "execute_result"
    }
   ],
   "source": [
    "nodeflair.head()"
   ]
  },
  {
   "cell_type": "code",
   "execution_count": 10,
   "metadata": {},
   "outputs": [],
   "source": [
    "nodeflair.insert(loc=2, column='requirement', value=None)\n",
    "nodeflair.insert(loc=3, column='salary', value='Negotiable')\n",
    "nodeflair.insert(loc=5, column='location', value='Vietnam')\n",
    "nodeflair.insert(loc=6, column='working_time', value='Full-time')"
   ]
  },
  {
   "cell_type": "code",
   "execution_count": 11,
   "metadata": {},
   "outputs": [
    {
     "data": {
      "text/html": [
       "<div>\n",
       "<style scoped>\n",
       "    .dataframe tbody tr th:only-of-type {\n",
       "        vertical-align: middle;\n",
       "    }\n",
       "\n",
       "    .dataframe tbody tr th {\n",
       "        vertical-align: top;\n",
       "    }\n",
       "\n",
       "    .dataframe thead th {\n",
       "        text-align: right;\n",
       "    }\n",
       "</style>\n",
       "<table border=\"1\" class=\"dataframe\">\n",
       "  <thead>\n",
       "    <tr style=\"text-align: right;\">\n",
       "      <th></th>\n",
       "      <th>title</th>\n",
       "      <th>company</th>\n",
       "      <th>requirement</th>\n",
       "      <th>salary</th>\n",
       "      <th>technical_skill</th>\n",
       "      <th>location</th>\n",
       "      <th>working_time</th>\n",
       "      <th>image_url</th>\n",
       "      <th>job_url</th>\n",
       "    </tr>\n",
       "  </thead>\n",
       "  <tbody>\n",
       "    <tr>\n",
       "      <th>0</th>\n",
       "      <td>Frontend Developer (ReactJS, Typescript)</td>\n",
       "      <td>Renesas Electronics</td>\n",
       "      <td>None</td>\n",
       "      <td>Negotiable</td>\n",
       "      <td>[container, nextjs, ci, modular, scss, webpack...</td>\n",
       "      <td>Vietnam</td>\n",
       "      <td>Full-time</td>\n",
       "      <td>https://nodeflair.com/api/v2/companies/715.png</td>\n",
       "      <td>https://nodeflair.com/jobs/renesas-electronics...</td>\n",
       "    </tr>\n",
       "    <tr>\n",
       "      <th>1</th>\n",
       "      <td>Senior Data Scientist – ALM</td>\n",
       "      <td>VPBank</td>\n",
       "      <td>None</td>\n",
       "      <td>Negotiable</td>\n",
       "      <td>[r, sql, python]</td>\n",
       "      <td>Vietnam</td>\n",
       "      <td>Full-time</td>\n",
       "      <td>https://nodeflair.com/api/v2/companies/9859.png</td>\n",
       "      <td>https://nodeflair.com/jobs/vpbank-senior-data-...</td>\n",
       "    </tr>\n",
       "    <tr>\n",
       "      <th>2</th>\n",
       "      <td>Data Engineer</td>\n",
       "      <td>qode.world</td>\n",
       "      <td>None</td>\n",
       "      <td>Negotiable</td>\n",
       "      <td>[aws, c++, analytics, storm, aurora, bigquery,...</td>\n",
       "      <td>Vietnam</td>\n",
       "      <td>Full-time</td>\n",
       "      <td>https://nodeflair.com/api/v2/companies/22132.png</td>\n",
       "      <td>https://nodeflair.com/jobs/qode-world-data-eng...</td>\n",
       "    </tr>\n",
       "    <tr>\n",
       "      <th>3</th>\n",
       "      <td>Senior Software Engineer - Data</td>\n",
       "      <td>qode.world</td>\n",
       "      <td>None</td>\n",
       "      <td>Negotiable</td>\n",
       "      <td>[strategy, mysql, python]</td>\n",
       "      <td>Vietnam</td>\n",
       "      <td>Full-time</td>\n",
       "      <td>https://nodeflair.com/api/v2/companies/22132.png</td>\n",
       "      <td>https://nodeflair.com/jobs/qode-world-senior-s...</td>\n",
       "    </tr>\n",
       "    <tr>\n",
       "      <th>4</th>\n",
       "      <td>Data Scientist - Lending Model</td>\n",
       "      <td>Aboitiz Data Innovation</td>\n",
       "      <td>None</td>\n",
       "      <td>Negotiable</td>\n",
       "      <td>[docker, oop, git, spark, sql, python]</td>\n",
       "      <td>Vietnam</td>\n",
       "      <td>Full-time</td>\n",
       "      <td>https://nodeflair.com/api/v2/companies/6176.png</td>\n",
       "      <td>https://nodeflair.com/jobs/aboitiz-data-innova...</td>\n",
       "    </tr>\n",
       "  </tbody>\n",
       "</table>\n",
       "</div>"
      ],
      "text/plain": [
       "                                      title                  company  \\\n",
       "0  Frontend Developer (ReactJS, Typescript)      Renesas Electronics   \n",
       "1               Senior Data Scientist – ALM                   VPBank   \n",
       "2                             Data Engineer               qode.world   \n",
       "3           Senior Software Engineer - Data               qode.world   \n",
       "4            Data Scientist - Lending Model  Aboitiz Data Innovation   \n",
       "\n",
       "  requirement      salary                                    technical_skill  \\\n",
       "0        None  Negotiable  [container, nextjs, ci, modular, scss, webpack...   \n",
       "1        None  Negotiable                                   [r, sql, python]   \n",
       "2        None  Negotiable  [aws, c++, analytics, storm, aurora, bigquery,...   \n",
       "3        None  Negotiable                          [strategy, mysql, python]   \n",
       "4        None  Negotiable             [docker, oop, git, spark, sql, python]   \n",
       "\n",
       "  location working_time                                         image_url  \\\n",
       "0  Vietnam    Full-time    https://nodeflair.com/api/v2/companies/715.png   \n",
       "1  Vietnam    Full-time   https://nodeflair.com/api/v2/companies/9859.png   \n",
       "2  Vietnam    Full-time  https://nodeflair.com/api/v2/companies/22132.png   \n",
       "3  Vietnam    Full-time  https://nodeflair.com/api/v2/companies/22132.png   \n",
       "4  Vietnam    Full-time   https://nodeflair.com/api/v2/companies/6176.png   \n",
       "\n",
       "                                             job_url  \n",
       "0  https://nodeflair.com/jobs/renesas-electronics...  \n",
       "1  https://nodeflair.com/jobs/vpbank-senior-data-...  \n",
       "2  https://nodeflair.com/jobs/qode-world-data-eng...  \n",
       "3  https://nodeflair.com/jobs/qode-world-senior-s...  \n",
       "4  https://nodeflair.com/jobs/aboitiz-data-innova...  "
      ]
     },
     "execution_count": 11,
     "metadata": {},
     "output_type": "execute_result"
    }
   ],
   "source": [
    "nodeflair.head()"
   ]
  },
  {
   "cell_type": "code",
   "execution_count": 12,
   "metadata": {},
   "outputs": [],
   "source": [
    "nodeflair.to_csv('clean_nodeflair.csv', index=False)"
   ]
  }
 ],
 "metadata": {
  "kernelspec": {
   "display_name": "Python 3",
   "language": "python",
   "name": "python3"
  },
  "language_info": {
   "codemirror_mode": {
    "name": "ipython",
    "version": 3
   },
   "file_extension": ".py",
   "mimetype": "text/x-python",
   "name": "python",
   "nbconvert_exporter": "python",
   "pygments_lexer": "ipython3",
   "version": "3.10.11"
  }
 },
 "nbformat": 4,
 "nbformat_minor": 2
}
