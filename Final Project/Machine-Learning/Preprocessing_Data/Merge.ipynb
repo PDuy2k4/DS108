{
 "cells": [
  {
   "cell_type": "code",
   "execution_count": 1,
   "metadata": {},
   "outputs": [],
   "source": [
    "import pandas as pd "
   ]
  },
  {
   "cell_type": "code",
   "execution_count": 2,
   "metadata": {},
   "outputs": [],
   "source": [
    "it_job = pd.read_csv(r'it_job_preprocess\\clean_it_job.csv')\n",
    "it_viec = pd.read_csv(r'it_viec_preprocess\\clean_it_viec.csv')\n",
    "topcv = pd.read_csv(r'top_cv_preprocess\\clean_topcv.csv')\n",
    "topdev = pd.read_csv(r'topdev_preprocess\\clean_topdev.csv')\n",
    "vn_work = pd.read_csv(r'vietnam_work_preprocess\\clean_vn_work.csv')"
   ]
  },
  {
   "cell_type": "code",
   "execution_count": 3,
   "metadata": {},
   "outputs": [
    {
     "data": {
      "text/plain": [
       "Index(['title', 'company', 'requirement', 'salary', 'technical_skill',\n",
       "       'location', 'working_time', 'image_url', 'job_url'],\n",
       "      dtype='object')"
      ]
     },
     "execution_count": 3,
     "metadata": {},
     "output_type": "execute_result"
    }
   ],
   "source": [
    "it_job.columns"
   ]
  },
  {
   "cell_type": "code",
   "execution_count": 4,
   "metadata": {},
   "outputs": [],
   "source": [
    "# it_job = it_job.drop(it_job.columns[0], axis=1)\n"
   ]
  },
  {
   "cell_type": "code",
   "execution_count": 5,
   "metadata": {},
   "outputs": [
    {
     "data": {
      "text/plain": [
       "Index(['title', 'company', 'requirement', 'salary', 'technical_skill',\n",
       "       'location', 'working_time', 'image_url', 'job_url'],\n",
       "      dtype='object')"
      ]
     },
     "execution_count": 5,
     "metadata": {},
     "output_type": "execute_result"
    }
   ],
   "source": [
    "it_job.columns"
   ]
  },
  {
   "cell_type": "code",
   "execution_count": 6,
   "metadata": {},
   "outputs": [
    {
     "data": {
      "text/plain": [
       "Index(['title', 'company', 'requirement', 'salary', 'technical_skill',\n",
       "       'location', 'working_time', 'image_url', 'job_url'],\n",
       "      dtype='object')"
      ]
     },
     "execution_count": 6,
     "metadata": {},
     "output_type": "execute_result"
    }
   ],
   "source": [
    "it_viec.columns"
   ]
  },
  {
   "cell_type": "code",
   "execution_count": 7,
   "metadata": {},
   "outputs": [
    {
     "data": {
      "text/plain": [
       "Index(['title', 'company', 'requirement', 'salary', 'technical_skill',\n",
       "       'location', 'working_time', 'image_url', 'job_url'],\n",
       "      dtype='object')"
      ]
     },
     "execution_count": 7,
     "metadata": {},
     "output_type": "execute_result"
    }
   ],
   "source": [
    "topcv.columns"
   ]
  },
  {
   "cell_type": "code",
   "execution_count": 8,
   "metadata": {},
   "outputs": [
    {
     "data": {
      "text/plain": [
       "Index(['title', 'company', 'requirement', 'salary', 'technical_skill',\n",
       "       'location', 'working_time', 'image_url', 'job_url'],\n",
       "      dtype='object')"
      ]
     },
     "execution_count": 8,
     "metadata": {},
     "output_type": "execute_result"
    }
   ],
   "source": [
    "topdev.columns"
   ]
  },
  {
   "cell_type": "code",
   "execution_count": 9,
   "metadata": {},
   "outputs": [
    {
     "data": {
      "text/plain": [
       "Index(['title', 'company', 'requirement', 'salary', 'technical_skill',\n",
       "       'location', 'working_time', 'image_url', 'job_url'],\n",
       "      dtype='object')"
      ]
     },
     "execution_count": 9,
     "metadata": {},
     "output_type": "execute_result"
    }
   ],
   "source": [
    "vn_work.columns"
   ]
  },
  {
   "cell_type": "code",
   "execution_count": 10,
   "metadata": {},
   "outputs": [],
   "source": [
    "node_flair = pd.read_csv(r'nodeflair_preprocess\\clean_nodeflair.csv')"
   ]
  },
  {
   "cell_type": "code",
   "execution_count": 11,
   "metadata": {},
   "outputs": [],
   "source": [
    "final_data = pd.concat([it_job, it_viec, topcv, topdev, vn_work, node_flair], ignore_index=True)"
   ]
  },
  {
   "cell_type": "code",
   "execution_count": 12,
   "metadata": {},
   "outputs": [],
   "source": [
    "final_data.to_csv('final_data.csv', index = False)"
   ]
  },
  {
   "cell_type": "code",
   "execution_count": 13,
   "metadata": {},
   "outputs": [
    {
     "name": "stdout",
     "output_type": "stream",
     "text": [
      "<class 'pandas.core.frame.DataFrame'>\n",
      "RangeIndex: 6891 entries, 0 to 6890\n",
      "Data columns (total 9 columns):\n",
      " #   Column           Non-Null Count  Dtype \n",
      "---  ------           --------------  ----- \n",
      " 0   title            6891 non-null   object\n",
      " 1   company          6891 non-null   object\n",
      " 2   requirement      5437 non-null   object\n",
      " 3   salary           6891 non-null   object\n",
      " 4   technical_skill  6891 non-null   object\n",
      " 5   location         6891 non-null   object\n",
      " 6   working_time     6891 non-null   object\n",
      " 7   image_url        6891 non-null   object\n",
      " 8   job_url          6891 non-null   object\n",
      "dtypes: object(9)\n",
      "memory usage: 484.6+ KB\n"
     ]
    }
   ],
   "source": [
    "final_data.info()"
   ]
  },
  {
   "cell_type": "code",
   "execution_count": 14,
   "metadata": {},
   "outputs": [],
   "source": [
    "final_data.drop_duplicates(subset=['company', 'technical_skill'], keep='first', inplace=True)"
   ]
  },
  {
   "cell_type": "code",
   "execution_count": 15,
   "metadata": {},
   "outputs": [
    {
     "name": "stdout",
     "output_type": "stream",
     "text": [
      "<class 'pandas.core.frame.DataFrame'>\n",
      "Index: 4506 entries, 0 to 6890\n",
      "Data columns (total 9 columns):\n",
      " #   Column           Non-Null Count  Dtype \n",
      "---  ------           --------------  ----- \n",
      " 0   title            4506 non-null   object\n",
      " 1   company          4506 non-null   object\n",
      " 2   requirement      3448 non-null   object\n",
      " 3   salary           4506 non-null   object\n",
      " 4   technical_skill  4506 non-null   object\n",
      " 5   location         4506 non-null   object\n",
      " 6   working_time     4506 non-null   object\n",
      " 7   image_url        4506 non-null   object\n",
      " 8   job_url          4506 non-null   object\n",
      "dtypes: object(9)\n",
      "memory usage: 352.0+ KB\n"
     ]
    }
   ],
   "source": [
    "final_data.info()"
   ]
  }
 ],
 "metadata": {
  "kernelspec": {
   "display_name": "Python 3",
   "language": "python",
   "name": "python3"
  },
  "language_info": {
   "codemirror_mode": {
    "name": "ipython",
    "version": 3
   },
   "file_extension": ".py",
   "mimetype": "text/x-python",
   "name": "python",
   "nbconvert_exporter": "python",
   "pygments_lexer": "ipython3",
   "version": "3.10.11"
  }
 },
 "nbformat": 4,
 "nbformat_minor": 2
}
