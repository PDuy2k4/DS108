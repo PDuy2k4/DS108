{
 "cells": [
  {
   "cell_type": "code",
   "execution_count": 1,
   "metadata": {},
   "outputs": [],
   "source": [
    "import pandas as pd\n",
    "import re"
   ]
  },
  {
   "cell_type": "code",
   "execution_count": 2,
   "metadata": {},
   "outputs": [],
   "source": [
    "vn_work = pd.read_csv(r'vietnamwork_translated.csv')"
   ]
  },
  {
   "cell_type": "code",
   "execution_count": 3,
   "metadata": {},
   "outputs": [],
   "source": [
    "vn_work.rename(columns={'Title': 'title',\n",
    "                        'Company_name': 'company',  \n",
    "                        'Location' : 'location', \n",
    "                        'Contract_type' : 'working_time', \n",
    "                        'Requirement': 'requirement', \n",
    "                        'Salary' : 'salary', \n",
    "                        'Technical_skills': 'technical_skill', \n",
    "                        'Link_image' : 'image_url', \n",
    "                        'URL' : 'job_url'},\n",
    "                        inplace=True)"
   ]
  },
  {
   "cell_type": "code",
   "execution_count": 4,
   "metadata": {},
   "outputs": [],
   "source": [
    "desired_columns_order = ['title', 'company', 'requirement', 'salary', 'technical_skill', 'location', 'working_time', 'image_url', 'job_url']\n",
    "vn_work = vn_work.reindex(columns=desired_columns_order)"
   ]
  },
  {
   "cell_type": "code",
   "execution_count": 5,
   "metadata": {},
   "outputs": [],
   "source": [
    "def clean_technical(s : str):\n",
    "    if s.startswith('SKILL'):\n",
    "        return s[5:]  # Bỏ đi 5 ký tự \"SKILL\" ở đầu\n",
    "    else:\n",
    "        return s"
   ]
  },
  {
   "cell_type": "code",
   "execution_count": 6,
   "metadata": {},
   "outputs": [],
   "source": [
    "vn_work['technical_skill'] = vn_work['technical_skill'].apply(clean_technical)"
   ]
  },
  {
   "cell_type": "code",
   "execution_count": 7,
   "metadata": {},
   "outputs": [
    {
     "name": "stdout",
     "output_type": "stream",
     "text": [
      "C#, Web API, .Net Core, Azure Cloud, English\n"
     ]
    }
   ],
   "source": [
    "print((vn_work['technical_skill'][90]))"
   ]
  },
  {
   "cell_type": "code",
   "execution_count": 8,
   "metadata": {},
   "outputs": [],
   "source": [
    "def sentence_preprocess(sen : str):\n",
    "    x = sen.split(', ')\n",
    "    return x \n",
    "\n",
    "def split_by_slash(skill_list): \n",
    "    new_skills = [] \n",
    "    for skill in skill_list:\n",
    "        new_skills.extend(skill.split('/'))\n",
    "    \n",
    "    return new_skills\n",
    "\n",
    "def split_by_space(skill_list):\n",
    "    new_skills = [] \n",
    "    for skill in skill_list:\n",
    "        new_skills.extend(skill.split())\n",
    "\n",
    "    return new_skills\n",
    "\n",
    "\n",
    "def remove_special_chars(skill_list):\n",
    "    pattern = r'[^a-zA-Z0-9+# ]'\n",
    "    processed_strings = [re.sub(pattern, '', s).strip() for s in skill_list]\n",
    "    \n",
    "    return processed_strings\n",
    "\n",
    "\n",
    "def lowercase(skill_list):\n",
    "    new_skills = [] \n",
    "    for skill in skill_list:\n",
    "        new_skills.append(skill.lower())\n",
    "    \n",
    "    return new_skills\n",
    "\n",
    "def to_set(skill_list):\n",
    "    return list(set(skill_list))"
   ]
  },
  {
   "cell_type": "code",
   "execution_count": 9,
   "metadata": {},
   "outputs": [],
   "source": [
    "vn_work['technical_skill'] = vn_work['technical_skill'].apply(sentence_preprocess)\n",
    "vn_work['technical_skill'] = vn_work['technical_skill'].apply(split_by_slash)\n",
    "vn_work['technical_skill'] = vn_work['technical_skill'].apply(split_by_space)\n",
    "vn_work['technical_skill'] = vn_work['technical_skill'].apply(remove_special_chars)\n",
    "vn_work['technical_skill'] = vn_work['technical_skill'].apply(lowercase)\n",
    "vn_work['technical_skill'] = vn_work['technical_skill'].apply(to_set)"
   ]
  },
  {
   "cell_type": "code",
   "execution_count": 10,
   "metadata": {},
   "outputs": [
    {
     "name": "stdout",
     "output_type": "stream",
     "text": [
      "['development', 'management', 'engagement', 'communication', 'partnership', 'leadership', 'english']\n"
     ]
    }
   ],
   "source": [
    "print((vn_work['technical_skill'][0]))"
   ]
  },
  {
   "cell_type": "code",
   "execution_count": 11,
   "metadata": {},
   "outputs": [],
   "source": [
    "import csv\n",
    "\n",
    "def load_words_from_csv(csv_file):\n",
    "    words_set = set()\n",
    "    with open(csv_file, mode='r', newline='', encoding='utf-8') as file:\n",
    "        reader = csv.reader(file)\n",
    "        for row in reader:\n",
    "            if row:  \n",
    "                word = row[0].strip()\n",
    "                words_set.add(word)\n",
    "    return words_set\n",
    "\n",
    "# Load words from CSV into a set\n",
    "csv_file_path = r'..\\techcical_list.csv'  \n",
    "words_set = load_words_from_csv(csv_file_path)\n",
    "\n",
    "def filter_words(word_list):\n",
    "    return [word for word in word_list if word in words_set]"
   ]
  },
  {
   "cell_type": "code",
   "execution_count": 12,
   "metadata": {},
   "outputs": [],
   "source": [
    "words_set = load_words_from_csv(csv_file_path)\n",
    "\n",
    "def fill_again(skill_list):\n",
    "    filled_list = [word for word in skill_list if word in words_set]\n",
    "    return filled_list "
   ]
  },
  {
   "cell_type": "code",
   "execution_count": 13,
   "metadata": {},
   "outputs": [],
   "source": [
    "vn_work['technical_skill'] = vn_work['technical_skill'].apply(fill_again)"
   ]
  },
  {
   "cell_type": "code",
   "execution_count": 14,
   "metadata": {},
   "outputs": [
    {
     "data": {
      "text/plain": [
       "0                                          [development]\n",
       "1      [bi, data, processing, business, power, intell...\n",
       "2                [erp, dynamics, crm, support, platform]\n",
       "3                                   [development, stack]\n",
       "4                                   [testing, test, srs]\n",
       "                             ...                        \n",
       "538                       [machine, learning, data, big]\n",
       "539                                                   []\n",
       "540                      [python, javascript, java, iot]\n",
       "541          [c#, net, architecture, reactjs, angularjs]\n",
       "542                       [product, development, golang]\n",
       "Name: technical_skill, Length: 543, dtype: object"
      ]
     },
     "execution_count": 14,
     "metadata": {},
     "output_type": "execute_result"
    }
   ],
   "source": [
    "vn_work['technical_skill'] "
   ]
  },
  {
   "cell_type": "code",
   "execution_count": 15,
   "metadata": {},
   "outputs": [],
   "source": [
    "vn_work.to_csv('clean_vn_work.csv', index=False)"
   ]
  },
  {
   "cell_type": "code",
   "execution_count": 1,
   "metadata": {},
   "outputs": [
    {
     "name": "stdout",
     "output_type": "stream",
     "text": [
      "<class 'pandas.core.frame.DataFrame'>\n",
      "RangeIndex: 543 entries, 0 to 542\n",
      "Data columns (total 9 columns):\n",
      " #   Column           Non-Null Count  Dtype \n",
      "---  ------           --------------  ----- \n",
      " 0   title            543 non-null    object\n",
      " 1   company          543 non-null    object\n",
      " 2   requirement      543 non-null    object\n",
      " 3   salary           543 non-null    object\n",
      " 4   technical_skill  543 non-null    object\n",
      " 5   location         543 non-null    object\n",
      " 6   working_time     543 non-null    object\n",
      " 7   image_url        543 non-null    object\n",
      " 8   job_url          543 non-null    object\n",
      "dtypes: object(9)\n",
      "memory usage: 38.3+ KB\n"
     ]
    }
   ],
   "source": [
    "import pandas as pd\n",
    "df = pd.read_csv('clean_vn_work.csv')\n",
    "df.info()"
   ]
  }
 ],
 "metadata": {
  "kernelspec": {
   "display_name": "Python 3",
   "language": "python",
   "name": "python3"
  },
  "language_info": {
   "codemirror_mode": {
    "name": "ipython",
    "version": 3
   },
   "file_extension": ".py",
   "mimetype": "text/x-python",
   "name": "python",
   "nbconvert_exporter": "python",
   "pygments_lexer": "ipython3",
   "version": "3.10.11"
  }
 },
 "nbformat": 4,
 "nbformat_minor": 2
}
