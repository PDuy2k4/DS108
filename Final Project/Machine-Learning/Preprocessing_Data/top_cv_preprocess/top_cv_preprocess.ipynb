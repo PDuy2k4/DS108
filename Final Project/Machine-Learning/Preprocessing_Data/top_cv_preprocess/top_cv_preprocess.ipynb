{
 "cells": [
  {
   "cell_type": "code",
   "execution_count": 1,
   "metadata": {},
   "outputs": [],
   "source": [
    "import pandas as pd \n",
    "import re"
   ]
  },
  {
   "cell_type": "code",
   "execution_count": 2,
   "metadata": {},
   "outputs": [],
   "source": [
    "topcv = pd.read_csv(r'topcv_translated.csv')"
   ]
  },
  {
   "cell_type": "code",
   "execution_count": 3,
   "metadata": {},
   "outputs": [
    {
     "data": {
      "text/plain": [
       "Index(['job_title', 'company_name', 'requirement', 'salary', 'location',\n",
       "       'image_link', 'job_url'],\n",
       "      dtype='object')"
      ]
     },
     "execution_count": 3,
     "metadata": {},
     "output_type": "execute_result"
    }
   ],
   "source": [
    "topcv.columns"
   ]
  },
  {
   "cell_type": "code",
   "execution_count": 4,
   "metadata": {},
   "outputs": [],
   "source": [
    "# Đổi tên cột\n",
    "topcv.rename(columns={'job_title': 'title',\n",
    "                        'company_name': 'company',  \n",
    "                        'image_link' : 'image_url'},\n",
    "                        inplace=True)"
   ]
  },
  {
   "cell_type": "code",
   "execution_count": 5,
   "metadata": {},
   "outputs": [],
   "source": [
    "# Đổi lại thứ tự các dòng\n",
    "desired_columns_order = ['title', 'company', 'requirement', 'salary', 'location', 'image_url', 'job_url']\n",
    "topcv = topcv.reindex(columns=desired_columns_order)\n",
    "topcv.insert(loc=4, column='technical_skill', value=None)\n",
    "topcv.insert(loc=6, column='working_time', value='Fulltime')"
   ]
  },
  {
   "cell_type": "code",
   "execution_count": 6,
   "metadata": {},
   "outputs": [],
   "source": [
    "# Xử lý technical skill cho topcv \n",
    "def split_sentences_in_each_req(x):\n",
    "    x = x.replace('\\\\n', '\\n')\n",
    "    sentences = x.split('\\n')\n",
    "    return sentences"
   ]
  },
  {
   "cell_type": "code",
   "execution_count": 7,
   "metadata": {},
   "outputs": [],
   "source": [
    "def sentences_preprocessing(sen):\n",
    "    res = re.sub(r'\\d+|[^\\w\\s,./!#]', '', sen)\n",
    "    res = \" \".join(res.split())\n",
    "    return res"
   ]
  },
  {
   "cell_type": "code",
   "execution_count": 8,
   "metadata": {},
   "outputs": [],
   "source": [
    "def get_technical_skill_from_sentences(sentence):\n",
    "    words = sentence.split()\n",
    "    uppercase_words = []\n",
    "\n",
    "    i = 1  \n",
    "    while i < len(words):\n",
    "        if words[i][0].isupper():\n",
    "            if i + 2 < len(words) and words[i + 1][0].isupper() and words[i + 2][0].isupper() and words[i][-1] != ',' and words[i][-1] != '.' and words[i + 1][-1] != ',' and words[i + 1][-1] != '.':\n",
    "                uppercase_words.append(words[i] + ' ' + words[i + 1] + ' ' + words[i + 2])\n",
    "                i += 3\n",
    "\n",
    "            elif i + 1 < len(words) and words[i + 1][0].isupper() and words[i][-1] != ',' and words[i][-1] != '.':\n",
    "                uppercase_words.append(words[i] + ' ' + words[i + 1])\n",
    "                i += 2\n",
    "            \n",
    "            else:\n",
    "                uppercase_words.append(words[i])\n",
    "                i += 1\n",
    "        else:\n",
    "            i += 1  \n",
    "\n",
    "    return uppercase_words"
   ]
  },
  {
   "cell_type": "code",
   "execution_count": 9,
   "metadata": {},
   "outputs": [],
   "source": [
    "def get_technical_skills(X : str): \n",
    "    skill = []\n",
    "    tech_sen = split_sentences_in_each_req(X)\n",
    "\n",
    "    for sen in tech_sen:\n",
    "        tech_sen_preprocessed = sentences_preprocessing(sen)\n",
    "        tech_skill = get_technical_skill_from_sentences(tech_sen_preprocessed)\n",
    "        skill.extend(tech_skill)\n",
    "\n",
    "    return skill "
   ]
  },
  {
   "cell_type": "code",
   "execution_count": 10,
   "metadata": {},
   "outputs": [],
   "source": [
    "topcv_req = topcv['requirement']"
   ]
  },
  {
   "cell_type": "code",
   "execution_count": 11,
   "metadata": {},
   "outputs": [],
   "source": [
    "topcv['technical_skill'] = topcv_req.apply(get_technical_skills)"
   ]
  },
  {
   "cell_type": "code",
   "execution_count": 12,
   "metadata": {},
   "outputs": [
    {
     "data": {
      "text/plain": [
       "0       [College, Information Technology,, Computer Sc...\n",
       "1       [React.js, Computer Science,, Information Tech...\n",
       "2       [Degree, IT, ReactJS, VueJS, Typescript ES, CS...\n",
       "3                                   [Unity Having, Unity]\n",
       "4          [Javascript, Typescript, Cocos Creator/ Unity]\n",
       "                              ...                        \n",
       "1840    [Information Technology,, Computer Science,, I...\n",
       "1841    [IT, WEB, PHP/HTML/CSS/JAVASCRIPT., MVC Framew...\n",
       "1842    [Information Technology,, Computer Science,, I...\n",
       "1843    [IT,, Computer Science,, Mathematics..., Java,...\n",
       "1844    [Backend, Java, SQL,, PL/SQL,, Oracle/MySQL,, ...\n",
       "Name: technical_skill, Length: 1845, dtype: object"
      ]
     },
     "execution_count": 12,
     "metadata": {},
     "output_type": "execute_result"
    }
   ],
   "source": [
    "topcv['technical_skill']"
   ]
  },
  {
   "cell_type": "code",
   "execution_count": 13,
   "metadata": {},
   "outputs": [],
   "source": [
    "def split_by_slash(skill_list): \n",
    "    new_skills = [] \n",
    "    for skill in skill_list:\n",
    "        new_skills.extend(skill.split('/'))\n",
    "    \n",
    "    return new_skills\n",
    "\n",
    "def split_by_space(skill_list):\n",
    "    new_skills = [] \n",
    "    for skill in skill_list:\n",
    "        new_skills.extend(skill.split())\n",
    "    \n",
    "    return new_skills\n",
    "\n",
    "def lowercase(skill_list):\n",
    "    new_skills = [] \n",
    "    for skill in skill_list:\n",
    "        new_skills.append(skill.lower())\n",
    "    \n",
    "    return new_skills\n",
    "\n",
    "def remove_special_chars(skill_list):\n",
    "    pattern = r'[^a-zA-Z0-9+# ]'\n",
    "    processed_strings = [re.sub(pattern, '', s).strip() for s in skill_list]\n",
    "    \n",
    "    return processed_strings\n",
    "\n",
    "def to_set(skill_list):\n",
    "    return list(set(skill_list))"
   ]
  },
  {
   "cell_type": "code",
   "execution_count": 14,
   "metadata": {},
   "outputs": [],
   "source": [
    "topcv['technical_skill'] = topcv['technical_skill'].apply(split_by_slash)\n",
    "topcv['technical_skill'] = topcv['technical_skill'].apply(split_by_space)\n",
    "topcv['technical_skill'] = topcv['technical_skill'].apply(remove_special_chars)\n",
    "topcv['technical_skill'] = topcv['technical_skill'].apply(lowercase)\n",
    "topcv['technical_skill'] = topcv['technical_skill'].apply(to_set)"
   ]
  },
  {
   "cell_type": "code",
   "execution_count": 24,
   "metadata": {},
   "outputs": [],
   "source": [
    "import csv\n",
    "\n",
    "def load_words_from_csv(csv_file):\n",
    "    words_set = set()\n",
    "    with open(csv_file, mode='r', newline='', encoding='utf-8') as file:\n",
    "        reader = csv.reader(file)\n",
    "        for row in reader:\n",
    "            if row:  \n",
    "                word = row[0].strip()\n",
    "                words_set.add(word)\n",
    "    return words_set\n",
    "\n",
    "# Load words from CSV into a set\n",
    "csv_file_path = r'..\\techcical_list.csv'  \n",
    "words_set = load_words_from_csv(csv_file_path)\n",
    "\n",
    "def filter_words(word_list):\n",
    "    return [word for word in word_list if word in words_set]"
   ]
  },
  {
   "cell_type": "code",
   "execution_count": 25,
   "metadata": {},
   "outputs": [],
   "source": [
    "words_set = load_words_from_csv(csv_file_path)\n",
    "\n",
    "def fill_again(skill_list):\n",
    "    filled_list = [word for word in skill_list if word in words_set]\n",
    "    return filled_list "
   ]
  },
  {
   "cell_type": "code",
   "execution_count": 26,
   "metadata": {},
   "outputs": [],
   "source": [
    "topcv['technical_skill'] = topcv['technical_skill'].apply(fill_again)"
   ]
  },
  {
   "cell_type": "code",
   "execution_count": 27,
   "metadata": {},
   "outputs": [
    {
     "data": {
      "text/plain": [
       "0       [html, css, postgresql, mongodb, javascript, j...\n",
       "1       [git, react, agile, nextjs, ui, reactjs, ci, v...\n",
       "2       [typescript, figma, api, github, ui, reactjs, ...\n",
       "3                                                 [unity]\n",
       "4                         [typescript, unity, javascript]\n",
       "                              ...                        \n",
       "1840    [html, css, mvc, nosql, web, mongodb, javascri...\n",
       "1841    [css, html, mvc, nosql, web, mongodb, javascri...\n",
       "1842    [html, css, mvc, nosql, web, mongodb, javascri...\n",
       "1843    [git, linux, elasticsearch, integration, postg...\n",
       "1844          [sql, agile, pl, oracle, java, mysql, cmmi]\n",
       "Name: technical_skill, Length: 1845, dtype: object"
      ]
     },
     "execution_count": 27,
     "metadata": {},
     "output_type": "execute_result"
    }
   ],
   "source": [
    "topcv['technical_skill']"
   ]
  },
  {
   "cell_type": "code",
   "execution_count": 29,
   "metadata": {},
   "outputs": [],
   "source": [
    "def convert_salary(x):\n",
    "    if x == 'The deal': \n",
    "        return 'Negotiable'\n",
    "    else:\n",
    "        return x\n",
    "\n",
    "topcv['salary'] = topcv['salary'].apply(convert_salary)"
   ]
  },
  {
   "cell_type": "code",
   "execution_count": 30,
   "metadata": {},
   "outputs": [
    {
     "data": {
      "text/html": [
       "<div>\n",
       "<style scoped>\n",
       "    .dataframe tbody tr th:only-of-type {\n",
       "        vertical-align: middle;\n",
       "    }\n",
       "\n",
       "    .dataframe tbody tr th {\n",
       "        vertical-align: top;\n",
       "    }\n",
       "\n",
       "    .dataframe thead th {\n",
       "        text-align: right;\n",
       "    }\n",
       "</style>\n",
       "<table border=\"1\" class=\"dataframe\">\n",
       "  <thead>\n",
       "    <tr style=\"text-align: right;\">\n",
       "      <th></th>\n",
       "      <th>title</th>\n",
       "      <th>company</th>\n",
       "      <th>requirement</th>\n",
       "      <th>salary</th>\n",
       "      <th>technical_skill</th>\n",
       "      <th>location</th>\n",
       "      <th>working_time</th>\n",
       "      <th>image_url</th>\n",
       "      <th>job_url</th>\n",
       "    </tr>\n",
       "  </thead>\n",
       "  <tbody>\n",
       "    <tr>\n",
       "      <th>0</th>\n",
       "      <td>Developer - Zalo</td>\n",
       "      <td>Công ty TNHH Phân Phối Trực Tuyến Nhất Nhất</td>\n",
       "      <td>['Graduate from College or higher in Informati...</td>\n",
       "      <td>Negotiable</td>\n",
       "      <td>[html, css, postgresql, mongodb, javascript, j...</td>\n",
       "      <td>- Hanoi: 8th Floor, Dong Loi Building, No. 2 L...</td>\n",
       "      <td>Fulltime</td>\n",
       "      <td>https://cdn-new.topcv.vn/unsafe/80x/https://st...</td>\n",
       "      <td>https://www.topcv.vn/viec-lam/lap-trinh-vien-d...</td>\n",
       "    </tr>\n",
       "    <tr>\n",
       "      <th>1</th>\n",
       "      <td>Front-End Developer, Salary from 25-50 Million...</td>\n",
       "      <td>TNHH APPTIFACT</td>\n",
       "      <td>[\"At least 4 years of experience in web develo...</td>\n",
       "      <td>25 - 50 million</td>\n",
       "      <td>[git, react, agile, nextjs, ui, reactjs, ci, v...</td>\n",
       "      <td>- Ho Chi Minh: Sarina Block A Building, Street...</td>\n",
       "      <td>Fulltime</td>\n",
       "      <td>https://www.topcv.vn/v4/image/normal-company/l...</td>\n",
       "      <td>https://www.topcv.vn/viec-lam/front-end-develo...</td>\n",
       "    </tr>\n",
       "    <tr>\n",
       "      <th>2</th>\n",
       "      <td>Front-End Developer 3 Years of Experience (Sal...</td>\n",
       "      <td>CÔNG TY TNHH TIMIND</td>\n",
       "      <td>[\"Bachelor's Degree (or above) in IT or relate...</td>\n",
       "      <td>20 - 30 million</td>\n",
       "      <td>[typescript, figma, api, github, ui, reactjs, ...</td>\n",
       "      <td>#NAME?</td>\n",
       "      <td>Fulltime</td>\n",
       "      <td>https://cdn-new.topcv.vn/unsafe/80x/https://st...</td>\n",
       "      <td>https://www.topcv.vn/viec-lam/front-end-develo...</td>\n",
       "    </tr>\n",
       "    <tr>\n",
       "      <th>3</th>\n",
       "      <td>Game Programming - Unity Developer (Intern/Fre...</td>\n",
       "      <td>Công ty Cổ phần Công nghệ và Sáng tạo Rocket</td>\n",
       "      <td>['Fresher requires a minimum of 6 months of ex...</td>\n",
       "      <td>Up to 12 million</td>\n",
       "      <td>[unity]</td>\n",
       "      <td>- Hanoi: 8th floor, Gold Tower, 275 Nguyen Tra...</td>\n",
       "      <td>Fulltime</td>\n",
       "      <td>https://cdn-new.topcv.vn/unsafe/80x/https://st...</td>\n",
       "      <td>https://www.topcv.vn/viec-lam/lap-trinh-game-u...</td>\n",
       "    </tr>\n",
       "    <tr>\n",
       "      <th>4</th>\n",
       "      <td>Game Developer (Cocos/ Unity) - Salary Upto 35...</td>\n",
       "      <td>XIPAT FLEXIBLE SOLUTIONS COMPANY LIMITED</td>\n",
       "      <td>['Experience in developing mobile games prefer...</td>\n",
       "      <td>Up to 35 million</td>\n",
       "      <td>[typescript, unity, javascript]</td>\n",
       "      <td>- Hanoi: November 18, Thai Ha, Dong Da</td>\n",
       "      <td>Fulltime</td>\n",
       "      <td>https://cdn-new.topcv.vn/unsafe/80x/https://st...</td>\n",
       "      <td>https://www.topcv.vn/viec-lam/game-developer-c...</td>\n",
       "    </tr>\n",
       "  </tbody>\n",
       "</table>\n",
       "</div>"
      ],
      "text/plain": [
       "                                               title  \\\n",
       "0                                   Developer - Zalo   \n",
       "1  Front-End Developer, Salary from 25-50 Million...   \n",
       "2  Front-End Developer 3 Years of Experience (Sal...   \n",
       "3  Game Programming - Unity Developer (Intern/Fre...   \n",
       "4  Game Developer (Cocos/ Unity) - Salary Upto 35...   \n",
       "\n",
       "                                        company  \\\n",
       "0   Công ty TNHH Phân Phối Trực Tuyến Nhất Nhất   \n",
       "1                                TNHH APPTIFACT   \n",
       "2                           CÔNG TY TNHH TIMIND   \n",
       "3  Công ty Cổ phần Công nghệ và Sáng tạo Rocket   \n",
       "4      XIPAT FLEXIBLE SOLUTIONS COMPANY LIMITED   \n",
       "\n",
       "                                         requirement            salary  \\\n",
       "0  ['Graduate from College or higher in Informati...        Negotiable   \n",
       "1  [\"At least 4 years of experience in web develo...   25 - 50 million   \n",
       "2  [\"Bachelor's Degree (or above) in IT or relate...   20 - 30 million   \n",
       "3  ['Fresher requires a minimum of 6 months of ex...  Up to 12 million   \n",
       "4  ['Experience in developing mobile games prefer...  Up to 35 million   \n",
       "\n",
       "                                     technical_skill  \\\n",
       "0  [html, css, postgresql, mongodb, javascript, j...   \n",
       "1  [git, react, agile, nextjs, ui, reactjs, ci, v...   \n",
       "2  [typescript, figma, api, github, ui, reactjs, ...   \n",
       "3                                            [unity]   \n",
       "4                    [typescript, unity, javascript]   \n",
       "\n",
       "                                            location working_time  \\\n",
       "0  - Hanoi: 8th Floor, Dong Loi Building, No. 2 L...     Fulltime   \n",
       "1  - Ho Chi Minh: Sarina Block A Building, Street...     Fulltime   \n",
       "2                                             #NAME?     Fulltime   \n",
       "3  - Hanoi: 8th floor, Gold Tower, 275 Nguyen Tra...     Fulltime   \n",
       "4             - Hanoi: November 18, Thai Ha, Dong Da     Fulltime   \n",
       "\n",
       "                                           image_url  \\\n",
       "0  https://cdn-new.topcv.vn/unsafe/80x/https://st...   \n",
       "1  https://www.topcv.vn/v4/image/normal-company/l...   \n",
       "2  https://cdn-new.topcv.vn/unsafe/80x/https://st...   \n",
       "3  https://cdn-new.topcv.vn/unsafe/80x/https://st...   \n",
       "4  https://cdn-new.topcv.vn/unsafe/80x/https://st...   \n",
       "\n",
       "                                             job_url  \n",
       "0  https://www.topcv.vn/viec-lam/lap-trinh-vien-d...  \n",
       "1  https://www.topcv.vn/viec-lam/front-end-develo...  \n",
       "2  https://www.topcv.vn/viec-lam/front-end-develo...  \n",
       "3  https://www.topcv.vn/viec-lam/lap-trinh-game-u...  \n",
       "4  https://www.topcv.vn/viec-lam/game-developer-c...  "
      ]
     },
     "execution_count": 30,
     "metadata": {},
     "output_type": "execute_result"
    }
   ],
   "source": [
    "topcv.head()"
   ]
  },
  {
   "cell_type": "code",
   "execution_count": 32,
   "metadata": {},
   "outputs": [],
   "source": [
    "topcv.to_csv('clean_topcv.csv', index = False)"
   ]
  },
  {
   "cell_type": "code",
   "execution_count": 2,
   "metadata": {},
   "outputs": [
    {
     "name": "stdout",
     "output_type": "stream",
     "text": [
      "<class 'pandas.core.frame.DataFrame'>\n",
      "RangeIndex: 1845 entries, 0 to 1844\n",
      "Data columns (total 9 columns):\n",
      " #   Column           Non-Null Count  Dtype \n",
      "---  ------           --------------  ----- \n",
      " 0   title            1845 non-null   object\n",
      " 1   company          1845 non-null   object\n",
      " 2   requirement      1845 non-null   object\n",
      " 3   salary           1845 non-null   object\n",
      " 4   technical_skill  1845 non-null   object\n",
      " 5   location         1845 non-null   object\n",
      " 6   working_time     1845 non-null   object\n",
      " 7   image_url        1845 non-null   object\n",
      " 8   job_url          1845 non-null   object\n",
      "dtypes: object(9)\n",
      "memory usage: 129.9+ KB\n"
     ]
    }
   ],
   "source": [
    "import pandas as pd \n",
    "df = pd.read_csv('clean_topcv.csv')\n",
    "df.info()"
   ]
  }
 ],
 "metadata": {
  "kernelspec": {
   "display_name": "Python 3",
   "language": "python",
   "name": "python3"
  },
  "language_info": {
   "codemirror_mode": {
    "name": "ipython",
    "version": 3
   },
   "file_extension": ".py",
   "mimetype": "text/x-python",
   "name": "python",
   "nbconvert_exporter": "python",
   "pygments_lexer": "ipython3",
   "version": "3.10.11"
  }
 },
 "nbformat": 4,
 "nbformat_minor": 2
}
