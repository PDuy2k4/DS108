{
 "cells": [
  {
   "cell_type": "code",
   "execution_count": 85,
   "metadata": {},
   "outputs": [],
   "source": [
    "import pandas as pd \n",
    "import re"
   ]
  },
  {
   "cell_type": "code",
   "execution_count": 86,
   "metadata": {},
   "outputs": [],
   "source": [
    "it_viec = pd.read_csv(r'itviec_data_translated.csv')"
   ]
  },
  {
   "cell_type": "code",
   "execution_count": 87,
   "metadata": {},
   "outputs": [],
   "source": [
    "# Đổi tên cột\n",
    "it_viec.rename(columns={'Title': 'title',\n",
    "                        'Company_name': 'company',  \n",
    "                        'Address' : 'location', \n",
    "                        'Contract_type' : 'working_time', \n",
    "                        'Requirement': 'requirement', \n",
    "                        'Benefit' : 'salary', \n",
    "                        'Technical_skills': 'technical_skill', \n",
    "                        'Link_image' : 'image_url', \n",
    "                        'URL' : 'job_url'},\n",
    "                        inplace=True)"
   ]
  },
  {
   "cell_type": "code",
   "execution_count": 88,
   "metadata": {},
   "outputs": [],
   "source": [
    "# Đổi lại thứ tự các dòng\n",
    "desired_columns_order = ['title', 'company', 'requirement', 'salary', 'technical_skill', 'location', 'working_time', 'image_url', 'job_url']\n",
    "it_viec = it_viec.reindex(columns=desired_columns_order)"
   ]
  },
  {
   "cell_type": "code",
   "execution_count": 89,
   "metadata": {},
   "outputs": [],
   "source": [
    "# Xử lý technical skill \n",
    "def split_sentences_in_each_req(x):\n",
    "    # x = x.replace('\\\\n', '\\n')\n",
    "    sentences = x.split(',')\n",
    "    return sentences"
   ]
  },
  {
   "cell_type": "code",
   "execution_count": 90,
   "metadata": {},
   "outputs": [],
   "source": [
    "def sentences_preprocessing(sen):\n",
    "    res = re.sub(r'\\d+|[^\\w\\s,./!#]', '', sen)\n",
    "    res = \" \".join(res.split())\n",
    "    return res"
   ]
  },
  {
   "cell_type": "code",
   "execution_count": 91,
   "metadata": {},
   "outputs": [],
   "source": [
    "def get_technical_skill_from_sentences(sentence):\n",
    "    words = sentence.split()\n",
    "    uppercase_words = []\n",
    "\n",
    "    i = 1  \n",
    "    while i < len(words):\n",
    "        if words[i][0].isupper():\n",
    "            if i + 2 < len(words) and words[i + 1][0].isupper() and words[i + 2][0].isupper() and words[i][-1] != ',' and words[i][-1] != '.' and words[i + 1][-1] != ',' and words[i + 1][-1] != '.':\n",
    "                uppercase_words.append(words[i] + ' ' + words[i + 1] + ' ' + words[i + 2])\n",
    "                i += 3\n",
    "\n",
    "            elif i + 1 < len(words) and words[i + 1][0].isupper() and words[i][-1] != ',' and words[i][-1] != '.':\n",
    "                uppercase_words.append(words[i] + ' ' + words[i + 1])\n",
    "                i += 2\n",
    "            \n",
    "            else:\n",
    "                uppercase_words.append(words[i])\n",
    "                i += 1\n",
    "        else:\n",
    "            i += 1  \n",
    "\n",
    "    return uppercase_words"
   ]
  },
  {
   "cell_type": "code",
   "execution_count": 92,
   "metadata": {},
   "outputs": [],
   "source": [
    "def get_technical_skills(X : str): \n",
    "    skill = []\n",
    "    tech_sen = split_sentences_in_each_req(X)\n",
    "\n",
    "    for sen in tech_sen:\n",
    "        tech_sen_preprocessed = sentences_preprocessing(sen)\n",
    "        tech_skill = get_technical_skill_from_sentences(tech_sen_preprocessed)\n",
    "        skill.extend(tech_skill)\n",
    "\n",
    "    return skill \n",
    "  "
   ]
  },
  {
   "cell_type": "code",
   "execution_count": 93,
   "metadata": {},
   "outputs": [],
   "source": [
    "df_none = it_viec[it_viec['technical_skill'] == '[]'].copy()\n",
    "condition = it_viec['technical_skill'].apply(lambda x: x == '[]')\n",
    "it_viec_clean = it_viec[~condition].copy()"
   ]
  },
  {
   "cell_type": "code",
   "execution_count": 94,
   "metadata": {},
   "outputs": [],
   "source": [
    "df_none_req = df_none['requirement']"
   ]
  },
  {
   "cell_type": "code",
   "execution_count": 95,
   "metadata": {},
   "outputs": [],
   "source": [
    "df_none['technical_skill'] = df_none['requirement'].apply(get_technical_skills)"
   ]
  },
  {
   "cell_type": "code",
   "execution_count": 96,
   "metadata": {},
   "outputs": [
    {
     "data": {
      "text/plain": [
       "18     [Playwright, Katalon, Java, API, TestNG/Mocha/...\n",
       "38     [Game, Hyper, D, Experience, D, Artists, Devel...\n",
       "39     [Wacom, Spine, Photoshop, Jira, Pipeline, Engl...\n",
       "47     [Project Manager, English, Vietnamese., Agile,...\n",
       "48                                   [English, Web, Web]\n",
       "                             ...                        \n",
       "728    [Agile, Waterfall, IT, ERP, Cases, Project Man...\n",
       "730    [DevOps, System Engineer/System Administrator,...\n",
       "732                                                   []\n",
       "734    [Degree, Information Technology, Science, Reac...\n",
       "735    [Engineering, Science, ExpertisenA Minimum, Sk...\n",
       "Name: technical_skill, Length: 130, dtype: object"
      ]
     },
     "execution_count": 96,
     "metadata": {},
     "output_type": "execute_result"
    }
   ],
   "source": [
    "df_none['technical_skill']"
   ]
  },
  {
   "cell_type": "code",
   "execution_count": 97,
   "metadata": {},
   "outputs": [],
   "source": [
    "it_viec_new = pd.concat([df_none, it_viec_clean])"
   ]
  },
  {
   "cell_type": "code",
   "execution_count": 98,
   "metadata": {},
   "outputs": [],
   "source": [
    "condition = it_viec_new['technical_skill'].apply(lambda x: x == [])\n",
    "it_viec_clean_new = it_viec_new[~condition].copy()"
   ]
  },
  {
   "cell_type": "code",
   "execution_count": 99,
   "metadata": {},
   "outputs": [
    {
     "data": {
      "text/plain": [
       "(707, 9)"
      ]
     },
     "execution_count": 99,
     "metadata": {},
     "output_type": "execute_result"
    }
   ],
   "source": [
    "it_viec_clean_new.shape"
   ]
  },
  {
   "cell_type": "code",
   "execution_count": 100,
   "metadata": {},
   "outputs": [],
   "source": [
    "it_viec_clean_new.to_csv('demo.csv', index = False)"
   ]
  },
  {
   "cell_type": "code",
   "execution_count": 101,
   "metadata": {},
   "outputs": [],
   "source": [
    "nearly_clean = pd.read_csv(r'demo.csv')"
   ]
  },
  {
   "cell_type": "code",
   "execution_count": 102,
   "metadata": {},
   "outputs": [
    {
     "name": "stdout",
     "output_type": "stream",
     "text": [
      "<class 'str'>\n"
     ]
    }
   ],
   "source": [
    "print(type(nearly_clean['technical_skill'][0]))"
   ]
  },
  {
   "cell_type": "code",
   "execution_count": 103,
   "metadata": {},
   "outputs": [],
   "source": [
    "def split_by_skill(skill_string):\n",
    "    cleaned_string = skill_string.strip(\"[]\").replace(\"'\", \"\")\n",
    "    skill_list = [s.strip() for s in cleaned_string.split(',')]\n",
    "\n",
    "    return skill_list\n",
    "\n",
    "\n",
    "def split_by_slash(skill_list): \n",
    "    new_skills = [] \n",
    "    for skill in skill_list:\n",
    "        new_skills.extend(skill.split('/'))\n",
    "    \n",
    "    return new_skills\n",
    "\n",
    "def split_by_space(skill_list):\n",
    "    new_skills = [] \n",
    "    for skill in skill_list:\n",
    "        new_skills.extend(skill.split())\n",
    "    \n",
    "    return new_skills\n",
    "\n",
    "def remove_special_chars(skill_list):\n",
    "    pattern = r'[^a-zA-Z0-9+# ]'\n",
    "    processed_strings = [re.sub(pattern, '', s).strip() for s in skill_list]\n",
    "    \n",
    "    return processed_strings\n",
    "\n",
    "def lowercase(skill_list):\n",
    "    new_skills = [] \n",
    "    for skill in skill_list:\n",
    "        new_skills.append(skill.lower())\n",
    "    \n",
    "    return new_skills\n",
    "\n",
    "\n",
    "def to_set(skill_list):\n",
    "    return list(set(skill_list))"
   ]
  },
  {
   "cell_type": "code",
   "execution_count": 104,
   "metadata": {},
   "outputs": [],
   "source": [
    "nearly_clean['technical_skill'] = nearly_clean['technical_skill'].apply(split_by_skill)\n",
    "nearly_clean['technical_skill'] = nearly_clean['technical_skill'].apply(split_by_slash)\n",
    "nearly_clean['technical_skill'] = nearly_clean['technical_skill'].apply(split_by_space)\n",
    "nearly_clean['technical_skill'] = nearly_clean['technical_skill'].apply(remove_special_chars)\n",
    "nearly_clean['technical_skill'] = nearly_clean['technical_skill'].apply(lowercase)\n",
    "nearly_clean['technical_skill'] = nearly_clean['technical_skill'].apply(to_set)"
   ]
  },
  {
   "cell_type": "code",
   "execution_count": 105,
   "metadata": {},
   "outputs": [],
   "source": [
    "import csv\n",
    "\n",
    "def load_words_from_csv(csv_file):\n",
    "    words_set = set()\n",
    "    with open(csv_file, mode='r', newline='', encoding='utf-8') as file:\n",
    "        reader = csv.reader(file)\n",
    "        for row in reader:\n",
    "            if row:  \n",
    "                word = row[0].strip()\n",
    "                words_set.add(word)\n",
    "    return words_set\n",
    "\n",
    "# Load words from CSV into a set\n",
    "csv_file_path = r'..\\techcical_list.csv'  \n",
    "words_set = load_words_from_csv(csv_file_path)\n",
    "\n",
    "def filter_words(word_list):\n",
    "    return [word for word in word_list if word in words_set]"
   ]
  },
  {
   "cell_type": "code",
   "execution_count": 106,
   "metadata": {},
   "outputs": [],
   "source": [
    "words_set = load_words_from_csv(csv_file_path)\n",
    "\n",
    "def fill_again(skill_list):\n",
    "    filled_list = [word for word in skill_list if word in words_set]\n",
    "    return filled_list "
   ]
  },
  {
   "cell_type": "code",
   "execution_count": 107,
   "metadata": {},
   "outputs": [],
   "source": [
    "nearly_clean['technical_skill'] = nearly_clean['technical_skill'].apply(fill_again)"
   ]
  },
  {
   "cell_type": "code",
   "execution_count": 108,
   "metadata": {},
   "outputs": [
    {
     "data": {
      "text/plain": [
       "0      [api, katalon, testng, java, mocha, jasmine, n...\n",
       "1                               [game, unity, balancing]\n",
       "2                                      [photoshop, jira]\n",
       "3                                [project, scrum, agile]\n",
       "4                                                  [web]\n",
       "                             ...                        \n",
       "702                             [database, python, java]\n",
       "703                         [reactjs, javascript, vuejs]\n",
       "704                                       [linux, cloud]\n",
       "705                           [agile, analyst, business]\n",
       "706                          [analyst, tester, business]\n",
       "Name: technical_skill, Length: 707, dtype: object"
      ]
     },
     "execution_count": 108,
     "metadata": {},
     "output_type": "execute_result"
    }
   ],
   "source": [
    "nearly_clean['technical_skill']"
   ]
  },
  {
   "cell_type": "code",
   "execution_count": 109,
   "metadata": {},
   "outputs": [],
   "source": [
    "nearly_clean.to_csv('clean_it_viec.csv', index = False)"
   ]
  },
  {
   "cell_type": "code",
   "execution_count": 1,
   "metadata": {},
   "outputs": [
    {
     "name": "stdout",
     "output_type": "stream",
     "text": [
      "<class 'pandas.core.frame.DataFrame'>\n",
      "RangeIndex: 707 entries, 0 to 706\n",
      "Data columns (total 9 columns):\n",
      " #   Column           Non-Null Count  Dtype \n",
      "---  ------           --------------  ----- \n",
      " 0   title            707 non-null    object\n",
      " 1   company          707 non-null    object\n",
      " 2   requirement      707 non-null    object\n",
      " 3   salary           707 non-null    object\n",
      " 4   technical_skill  707 non-null    object\n",
      " 5   location         707 non-null    object\n",
      " 6   working_time     707 non-null    object\n",
      " 7   image_url        707 non-null    object\n",
      " 8   job_url          707 non-null    object\n",
      "dtypes: object(9)\n",
      "memory usage: 49.8+ KB\n"
     ]
    }
   ],
   "source": [
    "import pandas as pd \n",
    "df = pd.read_csv('clean_it_viec.csv')\n",
    "df.info()"
   ]
  }
 ],
 "metadata": {
  "kernelspec": {
   "display_name": "Python 3",
   "language": "python",
   "name": "python3"
  },
  "language_info": {
   "codemirror_mode": {
    "name": "ipython",
    "version": 3
   },
   "file_extension": ".py",
   "mimetype": "text/x-python",
   "name": "python",
   "nbconvert_exporter": "python",
   "pygments_lexer": "ipython3",
   "version": "3.10.11"
  }
 },
 "nbformat": 4,
 "nbformat_minor": 2
}
