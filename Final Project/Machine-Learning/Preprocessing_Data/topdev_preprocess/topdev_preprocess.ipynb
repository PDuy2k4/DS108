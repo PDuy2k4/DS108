{
 "cells": [
  {
   "cell_type": "code",
   "execution_count": 71,
   "metadata": {},
   "outputs": [],
   "source": [
    "import pandas as pd\n",
    "import re"
   ]
  },
  {
   "cell_type": "code",
   "execution_count": 72,
   "metadata": {},
   "outputs": [],
   "source": [
    "topdev = pd.read_csv(r'TopDev_translated.csv')"
   ]
  },
  {
   "cell_type": "code",
   "execution_count": 73,
   "metadata": {},
   "outputs": [],
   "source": [
    "# Title,Company,Requirement,Salary,technical_skills,location,worktime,img_link,url\n",
    "topdev.rename(columns={'Title': 'title',\n",
    "                        'Company_name': 'company',  \n",
    "                        'Address' : 'location', \n",
    "                        'Contract_type' : 'working_time', \n",
    "                        'Requirement': 'requirement', \n",
    "                        'Benefit' : 'salary', \n",
    "                        'Technical_skills': 'technical_skill', \n",
    "                        'Link_image' : 'image_url', \n",
    "                        'URL' : 'job_url'},\n",
    "                        inplace=True)"
   ]
  },
  {
   "cell_type": "code",
   "execution_count": 74,
   "metadata": {},
   "outputs": [],
   "source": [
    "desired_columns_order = ['title', 'company', 'requirement', 'salary', 'technical_skill', 'location', 'working_time', 'image_url', 'job_url']\n",
    "topdev = topdev.reindex(columns=desired_columns_order)"
   ]
  },
  {
   "cell_type": "code",
   "execution_count": 75,
   "metadata": {},
   "outputs": [
    {
     "data": {
      "text/plain": [
       "Index(['title', 'company', 'requirement', 'salary', 'technical_skill',\n",
       "       'location', 'working_time', 'image_url', 'job_url'],\n",
       "      dtype='object')"
      ]
     },
     "execution_count": 75,
     "metadata": {},
     "output_type": "execute_result"
    }
   ],
   "source": [
    "topdev.columns"
   ]
  },
  {
   "cell_type": "code",
   "execution_count": 76,
   "metadata": {},
   "outputs": [
    {
     "name": "stdout",
     "output_type": "stream",
     "text": [
      "JavaScript; HTML; ReactJS\n"
     ]
    }
   ],
   "source": [
    "print(topdev['technical_skill'][0])"
   ]
  },
  {
   "cell_type": "code",
   "execution_count": 77,
   "metadata": {},
   "outputs": [],
   "source": [
    "def sentence_preprocess(sen : str):\n",
    "    x = sen.split('; ')\n",
    "    return x \n",
    "\n",
    "def split_by_slash(skill_list): \n",
    "    new_skills = [] \n",
    "    for skill in skill_list:\n",
    "        new_skills.extend(skill.split('/'))\n",
    "    \n",
    "    return new_skills\n",
    "\n",
    "def split_by_space(skill_list):\n",
    "    new_skills = [] \n",
    "    for skill in skill_list:\n",
    "        new_skills.extend(skill.split())\n",
    "\n",
    "    return new_skills\n",
    " \n",
    "def remove_special_chars(skill_list):\n",
    "    pattern = r'[^a-zA-Z0-9+# ]'\n",
    "    processed_strings = [re.sub(pattern, '', s).strip() for s in skill_list]\n",
    "    \n",
    "    return processed_strings\n",
    "\n",
    "def lowercase(skill_list):\n",
    "    new_skills = [] \n",
    "    for skill in skill_list:\n",
    "        new_skills.append(skill.lower())\n",
    "    \n",
    "    return new_skills\n",
    "\n",
    "\n",
    "def to_set(skill_list):\n",
    "    return list(set(skill_list))"
   ]
  },
  {
   "cell_type": "code",
   "execution_count": 78,
   "metadata": {},
   "outputs": [],
   "source": [
    "topdev['technical_skill'] = topdev['technical_skill'].apply(sentence_preprocess)\n",
    "topdev['technical_skill'] = topdev['technical_skill'].apply(split_by_slash)\n",
    "topdev['technical_skill'] = topdev['technical_skill'].apply(split_by_space)\n",
    "topdev['technical_skill'] = topdev['technical_skill'].apply(remove_special_chars)\n",
    "topdev['technical_skill'] = topdev['technical_skill'].apply(lowercase)\n",
    "topdev['technical_skill'] = topdev['technical_skill'].apply(to_set)"
   ]
  },
  {
   "cell_type": "code",
   "execution_count": 79,
   "metadata": {},
   "outputs": [],
   "source": [
    "import csv\n",
    "\n",
    "def load_words_from_csv(csv_file):\n",
    "    words_set = set()\n",
    "    with open(csv_file, mode='r', newline='', encoding='utf-8') as file:\n",
    "        reader = csv.reader(file)\n",
    "        for row in reader:\n",
    "            if row:  \n",
    "                word = row[0].strip()\n",
    "                words_set.add(word)\n",
    "    return words_set\n",
    "\n",
    "# Load words from CSV into a set\n",
    "csv_file_path = r'..\\techcical_list.csv'  \n",
    "words_set = load_words_from_csv(csv_file_path)\n",
    "\n",
    "def filter_words(word_list):\n",
    "    return [word for word in word_list if word in words_set]"
   ]
  },
  {
   "cell_type": "code",
   "execution_count": 80,
   "metadata": {},
   "outputs": [],
   "source": [
    "words_set = load_words_from_csv(csv_file_path)\n",
    "\n",
    "def fill_again(skill_list):\n",
    "    filled_list = [word for word in skill_list if word in words_set]\n",
    "    return filled_list "
   ]
  },
  {
   "cell_type": "code",
   "execution_count": 81,
   "metadata": {},
   "outputs": [],
   "source": [
    "topdev['technical_skill'] = topdev['technical_skill'].apply(fill_again)"
   ]
  },
  {
   "cell_type": "code",
   "execution_count": 82,
   "metadata": {},
   "outputs": [
    {
     "data": {
      "text/plain": [
       "0                     [reactjs, html, javascript]\n",
       "1      [java, mobile, android, kotlin, rest, api]\n",
       "2                 [mobile, mvvm, ios, swift, mvc]\n",
       "3           [java, spring, rest, api, javascript]\n",
       "4                [qc, manual, automation, tester]\n",
       "                          ...                    \n",
       "683                 [java, mobile, kotlin, swift]\n",
       "684                             [unity, game, c#]\n",
       "685                 [python, java, software, net]\n",
       "686                        [c++, windows, oop, c]\n",
       "687                            [software, devops]\n",
       "Name: technical_skill, Length: 688, dtype: object"
      ]
     },
     "execution_count": 82,
     "metadata": {},
     "output_type": "execute_result"
    }
   ],
   "source": [
    "topdev['technical_skill']"
   ]
  },
  {
   "cell_type": "code",
   "execution_count": 83,
   "metadata": {},
   "outputs": [],
   "source": [
    "def convert_salary(text):\n",
    "    return 'Negotiable'"
   ]
  },
  {
   "cell_type": "code",
   "execution_count": 84,
   "metadata": {},
   "outputs": [],
   "source": [
    "topdev['salary'] = topdev['salary'].apply(convert_salary)"
   ]
  },
  {
   "cell_type": "code",
   "execution_count": 85,
   "metadata": {},
   "outputs": [
    {
     "data": {
      "text/html": [
       "<div>\n",
       "<style scoped>\n",
       "    .dataframe tbody tr th:only-of-type {\n",
       "        vertical-align: middle;\n",
       "    }\n",
       "\n",
       "    .dataframe tbody tr th {\n",
       "        vertical-align: top;\n",
       "    }\n",
       "\n",
       "    .dataframe thead th {\n",
       "        text-align: right;\n",
       "    }\n",
       "</style>\n",
       "<table border=\"1\" class=\"dataframe\">\n",
       "  <thead>\n",
       "    <tr style=\"text-align: right;\">\n",
       "      <th></th>\n",
       "      <th>title</th>\n",
       "      <th>company</th>\n",
       "      <th>requirement</th>\n",
       "      <th>salary</th>\n",
       "      <th>technical_skill</th>\n",
       "      <th>location</th>\n",
       "      <th>working_time</th>\n",
       "      <th>image_url</th>\n",
       "      <th>job_url</th>\n",
       "    </tr>\n",
       "  </thead>\n",
       "  <tbody>\n",
       "    <tr>\n",
       "      <th>0</th>\n",
       "      <td>Senior/Middle Frontend Developer</td>\n",
       "      <td>MEGADAO</td>\n",
       "      <td>Develop landing pages and product websites; De...</td>\n",
       "      <td>Negotiable</td>\n",
       "      <td>[reactjs, html, javascript]</td>\n",
       "      <td>Landmark 1, Vinhomes Central Park - 208 Nguyen...</td>\n",
       "      <td>Fulltime</td>\n",
       "      <td>https://salt.topdev.vn/5EYw7sPOsxctPUc-Xk2_UYV...</td>\n",
       "      <td>https://topdev.vn/viec-lam/senior-middle-front...</td>\n",
       "    </tr>\n",
       "    <tr>\n",
       "      <th>1</th>\n",
       "      <td>Android Developer</td>\n",
       "      <td>LIEN VIET POST JOINT STOCK COMMERCIAL BANK</td>\n",
       "      <td>Develop banking business requirements on exist...</td>\n",
       "      <td>Negotiable</td>\n",
       "      <td>[java, mobile, android, kotlin, rest, api]</td>\n",
       "      <td>LPB Building, No. 210 Tran Quang Khai, Trang T...</td>\n",
       "      <td>Fulltime</td>\n",
       "      <td>https://salt.topdev.vn/C65IkNewPi3hBfr5dut6UaS...</td>\n",
       "      <td>https://topdev.vn/viec-lam/android-developer-n...</td>\n",
       "    </tr>\n",
       "    <tr>\n",
       "      <th>2</th>\n",
       "      <td>iOS Developer</td>\n",
       "      <td>LIEN VIET POST JOINT STOCK COMMERCIAL BANK</td>\n",
       "      <td>Develop banking business requirements on exist...</td>\n",
       "      <td>Negotiable</td>\n",
       "      <td>[mobile, mvvm, ios, swift, mvc]</td>\n",
       "      <td>LPB Building, No. 210 Tran Quang Khai, Trang T...</td>\n",
       "      <td>Fulltime</td>\n",
       "      <td>https://salt.topdev.vn/C65IkNewPi3hBfr5dut6UaS...</td>\n",
       "      <td>https://topdev.vn/viec-lam/ios-developer-ngan-...</td>\n",
       "    </tr>\n",
       "    <tr>\n",
       "      <th>3</th>\n",
       "      <td>Specialist/ Supervisor, Java Software Engineer</td>\n",
       "      <td>Chubb Life Vietnam</td>\n",
       "      <td>Develop custom templates using Crystal or Jasp...</td>\n",
       "      <td>Negotiable</td>\n",
       "      <td>[java, spring, rest, api, javascript]</td>\n",
       "      <td>Head Office at: Tầng 21, Sun Wah Tower, 115 Ng...</td>\n",
       "      <td>Fulltime</td>\n",
       "      <td>https://salt.topdev.vn/XQXyPahzAenpMYWH61bBFyK...</td>\n",
       "      <td>https://topdev.vn/viec-lam/specialist-supervis...</td>\n",
       "    </tr>\n",
       "    <tr>\n",
       "      <th>4</th>\n",
       "      <td>QUALITY CONTROL TRAINING PROGRAM (QCTP)</td>\n",
       "      <td>CyberLogitec Vietnam Co., Ltd.</td>\n",
       "      <td>REQUIREMENTS; Passion for IT software; Good lo...</td>\n",
       "      <td>Negotiable</td>\n",
       "      <td>[qc, manual, automation, tester]</td>\n",
       "      <td>SCETPA Building, 19A Cong Hoa, Ward 12, Tan Bi...</td>\n",
       "      <td>Fulltime</td>\n",
       "      <td>https://salt.topdev.vn/RmO4itbR7ZX-n9hK1TXLHMd...</td>\n",
       "      <td>https://topdev.vn/viec-lam/quality-control-tra...</td>\n",
       "    </tr>\n",
       "  </tbody>\n",
       "</table>\n",
       "</div>"
      ],
      "text/plain": [
       "                                            title  \\\n",
       "0                Senior/Middle Frontend Developer   \n",
       "1                               Android Developer   \n",
       "2                                   iOS Developer   \n",
       "3  Specialist/ Supervisor, Java Software Engineer   \n",
       "4         QUALITY CONTROL TRAINING PROGRAM (QCTP)   \n",
       "\n",
       "                                      company  \\\n",
       "0                                     MEGADAO   \n",
       "1  LIEN VIET POST JOINT STOCK COMMERCIAL BANK   \n",
       "2  LIEN VIET POST JOINT STOCK COMMERCIAL BANK   \n",
       "3                          Chubb Life Vietnam   \n",
       "4              CyberLogitec Vietnam Co., Ltd.   \n",
       "\n",
       "                                         requirement      salary  \\\n",
       "0  Develop landing pages and product websites; De...  Negotiable   \n",
       "1  Develop banking business requirements on exist...  Negotiable   \n",
       "2  Develop banking business requirements on exist...  Negotiable   \n",
       "3  Develop custom templates using Crystal or Jasp...  Negotiable   \n",
       "4  REQUIREMENTS; Passion for IT software; Good lo...  Negotiable   \n",
       "\n",
       "                              technical_skill  \\\n",
       "0                 [reactjs, html, javascript]   \n",
       "1  [java, mobile, android, kotlin, rest, api]   \n",
       "2             [mobile, mvvm, ios, swift, mvc]   \n",
       "3       [java, spring, rest, api, javascript]   \n",
       "4            [qc, manual, automation, tester]   \n",
       "\n",
       "                                            location working_time  \\\n",
       "0  Landmark 1, Vinhomes Central Park - 208 Nguyen...     Fulltime   \n",
       "1  LPB Building, No. 210 Tran Quang Khai, Trang T...     Fulltime   \n",
       "2  LPB Building, No. 210 Tran Quang Khai, Trang T...     Fulltime   \n",
       "3  Head Office at: Tầng 21, Sun Wah Tower, 115 Ng...     Fulltime   \n",
       "4  SCETPA Building, 19A Cong Hoa, Ward 12, Tan Bi...     Fulltime   \n",
       "\n",
       "                                           image_url  \\\n",
       "0  https://salt.topdev.vn/5EYw7sPOsxctPUc-Xk2_UYV...   \n",
       "1  https://salt.topdev.vn/C65IkNewPi3hBfr5dut6UaS...   \n",
       "2  https://salt.topdev.vn/C65IkNewPi3hBfr5dut6UaS...   \n",
       "3  https://salt.topdev.vn/XQXyPahzAenpMYWH61bBFyK...   \n",
       "4  https://salt.topdev.vn/RmO4itbR7ZX-n9hK1TXLHMd...   \n",
       "\n",
       "                                             job_url  \n",
       "0  https://topdev.vn/viec-lam/senior-middle-front...  \n",
       "1  https://topdev.vn/viec-lam/android-developer-n...  \n",
       "2  https://topdev.vn/viec-lam/ios-developer-ngan-...  \n",
       "3  https://topdev.vn/viec-lam/specialist-supervis...  \n",
       "4  https://topdev.vn/viec-lam/quality-control-tra...  "
      ]
     },
     "execution_count": 85,
     "metadata": {},
     "output_type": "execute_result"
    }
   ],
   "source": [
    "topdev.head()"
   ]
  },
  {
   "cell_type": "code",
   "execution_count": 86,
   "metadata": {},
   "outputs": [],
   "source": [
    "topdev.to_csv('clean_topdev.csv', index= False)"
   ]
  },
  {
   "cell_type": "code",
   "execution_count": 1,
   "metadata": {},
   "outputs": [
    {
     "name": "stdout",
     "output_type": "stream",
     "text": [
      "<class 'pandas.core.frame.DataFrame'>\n",
      "RangeIndex: 688 entries, 0 to 687\n",
      "Data columns (total 9 columns):\n",
      " #   Column           Non-Null Count  Dtype \n",
      "---  ------           --------------  ----- \n",
      " 0   title            688 non-null    object\n",
      " 1   company          688 non-null    object\n",
      " 2   requirement      688 non-null    object\n",
      " 3   salary           688 non-null    object\n",
      " 4   technical_skill  688 non-null    object\n",
      " 5   location         688 non-null    object\n",
      " 6   working_time     688 non-null    object\n",
      " 7   image_url        688 non-null    object\n",
      " 8   job_url          688 non-null    object\n",
      "dtypes: object(9)\n",
      "memory usage: 48.5+ KB\n"
     ]
    }
   ],
   "source": [
    "import pandas as pd\n",
    "df = pd.read_csv('clean_topdev.csv')\n",
    "df.info()"
   ]
  }
 ],
 "metadata": {
  "kernelspec": {
   "display_name": "Python 3",
   "language": "python",
   "name": "python3"
  },
  "language_info": {
   "codemirror_mode": {
    "name": "ipython",
    "version": 3
   },
   "file_extension": ".py",
   "mimetype": "text/x-python",
   "name": "python",
   "nbconvert_exporter": "python",
   "pygments_lexer": "ipython3",
   "version": "3.10.11"
  }
 },
 "nbformat": 4,
 "nbformat_minor": 2
}
