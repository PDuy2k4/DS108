{
 "cells": [
  {
   "cell_type": "code",
   "execution_count": 47,
   "metadata": {},
   "outputs": [],
   "source": [
    "import pandas as pd \n",
    "import re"
   ]
  },
  {
   "cell_type": "code",
   "execution_count": 48,
   "metadata": {},
   "outputs": [],
   "source": [
    "it_job = pd.read_csv(r'It_job_translated.csv')"
   ]
  },
  {
   "cell_type": "code",
   "execution_count": 49,
   "metadata": {},
   "outputs": [
    {
     "data": {
      "text/plain": [
       "Index(['Title', 'Company', 'Requirement', 'Salary', 'technical_skills',\n",
       "       'location', 'worktime', 'img_link', 'url'],\n",
       "      dtype='object')"
      ]
     },
     "execution_count": 49,
     "metadata": {},
     "output_type": "execute_result"
    }
   ],
   "source": [
    "it_job.columns"
   ]
  },
  {
   "cell_type": "code",
   "execution_count": 50,
   "metadata": {},
   "outputs": [],
   "source": [
    "it_job.rename(columns={'Title': 'title',\n",
    "                        'Company': 'company',  \n",
    "                        'worktime' : 'working_time', \n",
    "                        'Requirement': 'requirement', \n",
    "                        'Salary' : 'salary', \n",
    "                        'technical_skills': 'technical_skill', \n",
    "                        'img_link' : 'image_url', \n",
    "                        'url' : 'job_url'},\n",
    "                        inplace=True)"
   ]
  },
  {
   "cell_type": "code",
   "execution_count": 51,
   "metadata": {},
   "outputs": [
    {
     "data": {
      "text/html": [
       "<div>\n",
       "<style scoped>\n",
       "    .dataframe tbody tr th:only-of-type {\n",
       "        vertical-align: middle;\n",
       "    }\n",
       "\n",
       "    .dataframe tbody tr th {\n",
       "        vertical-align: top;\n",
       "    }\n",
       "\n",
       "    .dataframe thead th {\n",
       "        text-align: right;\n",
       "    }\n",
       "</style>\n",
       "<table border=\"1\" class=\"dataframe\">\n",
       "  <thead>\n",
       "    <tr style=\"text-align: right;\">\n",
       "      <th></th>\n",
       "      <th>title</th>\n",
       "      <th>company</th>\n",
       "      <th>requirement</th>\n",
       "      <th>salary</th>\n",
       "      <th>technical_skill</th>\n",
       "      <th>location</th>\n",
       "      <th>working_time</th>\n",
       "      <th>image_url</th>\n",
       "      <th>job_url</th>\n",
       "    </tr>\n",
       "  </thead>\n",
       "  <tbody>\n",
       "    <tr>\n",
       "      <th>0</th>\n",
       "      <td>Senior C# Fullstack Developer</td>\n",
       "      <td>TOG recruitment</td>\n",
       "      <td>['Must have', 'Above 8 years of experience in ...</td>\n",
       "      <td>Up to 70000000VND</td>\n",
       "      <td>['C#', '.NET', 'MS', 'Azure', 'ASP.NET', 'ASP....</td>\n",
       "      <td>Quận 3, TP Hồ Chí Minh</td>\n",
       "      <td>Full Time</td>\n",
       "      <td>https://www.itjobs.com.vn/upload/Employer/TOG-...</td>\n",
       "      <td>https://www.itjobs.com.vn/en/job/81250/senior-...</td>\n",
       "    </tr>\n",
       "    <tr>\n",
       "      <th>1</th>\n",
       "      <td>Senior Java Backend Developer</td>\n",
       "      <td>Dr.JOY</td>\n",
       "      <td>['Must have', 'Java (8 or more) - 5 years of e...</td>\n",
       "      <td>Up to 2000</td>\n",
       "      <td>['Java', 'Spring', 'Spring', 'Boot', 'OOP', 'D...</td>\n",
       "      <td>Cầu Giấy, Hà Nội</td>\n",
       "      <td>Full Time</td>\n",
       "      <td>https://www.itjobs.com.vn/upload/Employer/Dr.J...</td>\n",
       "      <td>https://www.itjobs.com.vn/en/job/81724/senior-...</td>\n",
       "    </tr>\n",
       "    <tr>\n",
       "      <th>2</th>\n",
       "      <td>Salesforce Marketing Cloud Consultant</td>\n",
       "      <td>Clever Age</td>\n",
       "      <td>['Graduated from an engineering school or univ...</td>\n",
       "      <td>Negotiable</td>\n",
       "      <td>['Salesforce', 'JavaScript']</td>\n",
       "      <td>Quận 3, TP Hồ Chí Minh</td>\n",
       "      <td>Full Time</td>\n",
       "      <td>https://www.itjobs.com.vn/upload/Employer/Clev...</td>\n",
       "      <td>https://www.itjobs.com.vn/en/job/81725/salesfo...</td>\n",
       "    </tr>\n",
       "    <tr>\n",
       "      <th>3</th>\n",
       "      <td>Frontend Developer</td>\n",
       "      <td>Fastboy Marketing</td>\n",
       "      <td>['Must have', 'Proficient in React stack (Reac...</td>\n",
       "      <td>Negotiable</td>\n",
       "      <td>['JavaScript', 'ReactJS', 'HTML5', 'CSS3', 'SC...</td>\n",
       "      <td>Tan Phu, TP Hồ Chí Minh</td>\n",
       "      <td>Full Time</td>\n",
       "      <td>https://www.itjobs.com.vn/upload/Employer/Fast...</td>\n",
       "      <td>https://www.itjobs.com.vn/en/job/81726/fronten...</td>\n",
       "    </tr>\n",
       "    <tr>\n",
       "      <th>4</th>\n",
       "      <td>Senior Product Owner</td>\n",
       "      <td>One Mount Group</td>\n",
       "      <td>['Minimum of 5 years of product management exp...</td>\n",
       "      <td>Negotiable</td>\n",
       "      <td>['Product', 'Development', 'Jira']</td>\n",
       "      <td>Hoàn Kiếm, Hà Nội</td>\n",
       "      <td>Full Time</td>\n",
       "      <td>https://www.itjobs.com.vn/upload/Employer/One-...</td>\n",
       "      <td>https://www.itjobs.com.vn/en/job/81727/senior-...</td>\n",
       "    </tr>\n",
       "  </tbody>\n",
       "</table>\n",
       "</div>"
      ],
      "text/plain": [
       "                                   title            company  \\\n",
       "0          Senior C# Fullstack Developer    TOG recruitment   \n",
       "1          Senior Java Backend Developer             Dr.JOY   \n",
       "2  Salesforce Marketing Cloud Consultant         Clever Age   \n",
       "3                     Frontend Developer  Fastboy Marketing   \n",
       "4                   Senior Product Owner    One Mount Group   \n",
       "\n",
       "                                         requirement             salary  \\\n",
       "0  ['Must have', 'Above 8 years of experience in ...  Up to 70000000VND   \n",
       "1  ['Must have', 'Java (8 or more) - 5 years of e...         Up to 2000   \n",
       "2  ['Graduated from an engineering school or univ...         Negotiable   \n",
       "3  ['Must have', 'Proficient in React stack (Reac...         Negotiable   \n",
       "4  ['Minimum of 5 years of product management exp...         Negotiable   \n",
       "\n",
       "                                     technical_skill                 location  \\\n",
       "0  ['C#', '.NET', 'MS', 'Azure', 'ASP.NET', 'ASP....   Quận 3, TP Hồ Chí Minh   \n",
       "1  ['Java', 'Spring', 'Spring', 'Boot', 'OOP', 'D...         Cầu Giấy, Hà Nội   \n",
       "2                       ['Salesforce', 'JavaScript']   Quận 3, TP Hồ Chí Minh   \n",
       "3  ['JavaScript', 'ReactJS', 'HTML5', 'CSS3', 'SC...  Tan Phu, TP Hồ Chí Minh   \n",
       "4                 ['Product', 'Development', 'Jira']        Hoàn Kiếm, Hà Nội   \n",
       "\n",
       "  working_time                                          image_url  \\\n",
       "0    Full Time  https://www.itjobs.com.vn/upload/Employer/TOG-...   \n",
       "1    Full Time  https://www.itjobs.com.vn/upload/Employer/Dr.J...   \n",
       "2    Full Time  https://www.itjobs.com.vn/upload/Employer/Clev...   \n",
       "3    Full Time  https://www.itjobs.com.vn/upload/Employer/Fast...   \n",
       "4    Full Time  https://www.itjobs.com.vn/upload/Employer/One-...   \n",
       "\n",
       "                                             job_url  \n",
       "0  https://www.itjobs.com.vn/en/job/81250/senior-...  \n",
       "1  https://www.itjobs.com.vn/en/job/81724/senior-...  \n",
       "2  https://www.itjobs.com.vn/en/job/81725/salesfo...  \n",
       "3  https://www.itjobs.com.vn/en/job/81726/fronten...  \n",
       "4  https://www.itjobs.com.vn/en/job/81727/senior-...  "
      ]
     },
     "execution_count": 51,
     "metadata": {},
     "output_type": "execute_result"
    }
   ],
   "source": [
    "it_job.head()"
   ]
  },
  {
   "cell_type": "code",
   "execution_count": 52,
   "metadata": {},
   "outputs": [],
   "source": [
    "def split_by_skill(skill_string):\n",
    "    cleaned_string = skill_string.strip(\"[]\").replace(\"'\", \"\")\n",
    "    skill_list = [s.strip() for s in cleaned_string.split(',')]\n",
    "\n",
    "    return skill_list"
   ]
  },
  {
   "cell_type": "code",
   "execution_count": 53,
   "metadata": {},
   "outputs": [],
   "source": [
    "it_job['technical_skill'] = it_job['technical_skill'].apply(split_by_skill)"
   ]
  },
  {
   "cell_type": "code",
   "execution_count": 54,
   "metadata": {},
   "outputs": [
    {
     "name": "stdout",
     "output_type": "stream",
     "text": [
      "['C#', '.NET', 'MS', 'Azure', 'ASP.NET', 'ASP.NET', 'MVC', 'WPF', 'MS', 'SQL', 'Github', 'MS', 'Azure', 'AWS', 'ReactJS', 'Angular2', '.NET', 'Core', 'Azure', 'Cosmos', 'DB', 'Azure', 'DevOps', 'Blazor']\n"
     ]
    }
   ],
   "source": [
    "print((it_job['technical_skill'][0]))"
   ]
  },
  {
   "cell_type": "code",
   "execution_count": 55,
   "metadata": {},
   "outputs": [],
   "source": [
    "def remove_special_chars(skill_list):\n",
    "    pattern = r'[^a-zA-Z0-9+# ]'\n",
    "    processed_strings = [re.sub(pattern, '', s).strip() for s in skill_list]\n",
    "    \n",
    "    return processed_strings"
   ]
  },
  {
   "cell_type": "code",
   "execution_count": 56,
   "metadata": {},
   "outputs": [],
   "source": [
    "it_job['technical_skill'] = it_job['technical_skill'].apply(remove_special_chars)"
   ]
  },
  {
   "cell_type": "code",
   "execution_count": 57,
   "metadata": {},
   "outputs": [
    {
     "name": "stdout",
     "output_type": "stream",
     "text": [
      "NET\n"
     ]
    }
   ],
   "source": [
    "print((it_job['technical_skill'][0][1]))"
   ]
  },
  {
   "cell_type": "code",
   "execution_count": 58,
   "metadata": {},
   "outputs": [],
   "source": [
    "def split_by_slash(skill_list): \n",
    "    new_skills = [] \n",
    "    for skill in skill_list:\n",
    "        new_skills.extend(skill.split('/'))\n",
    "    \n",
    "    return new_skills"
   ]
  },
  {
   "cell_type": "code",
   "execution_count": 59,
   "metadata": {},
   "outputs": [],
   "source": [
    "it_job['technical_skill'] = it_job['technical_skill'].apply(split_by_slash)"
   ]
  },
  {
   "cell_type": "code",
   "execution_count": 60,
   "metadata": {},
   "outputs": [
    {
     "name": "stdout",
     "output_type": "stream",
     "text": [
      "<class 'list'>\n"
     ]
    }
   ],
   "source": [
    "print(type(it_job['technical_skill'][0]))"
   ]
  },
  {
   "cell_type": "code",
   "execution_count": 61,
   "metadata": {},
   "outputs": [
    {
     "data": {
      "text/plain": [
       "0       [C#, NET, MS, Azure, ASPNET, ASPNET, MVC, WPF,...\n",
       "1       [Java, Spring, Spring, Boot, OOP, Database, De...\n",
       "2                                [Salesforce, JavaScript]\n",
       "3       [JavaScript, ReactJS, HTML5, CSS3, SCSS, Sass,...\n",
       "4                            [Product, Development, Jira]\n",
       "                              ...                        \n",
       "2165                    [C, Embedded, Algorithm, AutoSAR]\n",
       "2166    [NET, C#, iOS, Jira, Visual, Studio, Git, MVVM...\n",
       "2167    [Python, Tester, Automation, Testing, Java, Ja...\n",
       "2168    [DevOps, AWS, CICD, Java, NET, Maven, Networki...\n",
       "2169    [Java, Python, Golang, WebSocket, CSDL, NoSQL,...\n",
       "Name: technical_skill, Length: 2170, dtype: object"
      ]
     },
     "execution_count": 61,
     "metadata": {},
     "output_type": "execute_result"
    }
   ],
   "source": [
    "it_job['technical_skill']"
   ]
  },
  {
   "cell_type": "code",
   "execution_count": 62,
   "metadata": {},
   "outputs": [],
   "source": [
    "def lowercase(skill_list):\n",
    "    new_skills = [] \n",
    "    for skill in skill_list:\n",
    "        new_skills.append(skill.lower())\n",
    "    \n",
    "    return new_skills"
   ]
  },
  {
   "cell_type": "code",
   "execution_count": 63,
   "metadata": {},
   "outputs": [],
   "source": [
    "it_job['technical_skill'] = it_job['technical_skill'].apply(lowercase)"
   ]
  },
  {
   "cell_type": "code",
   "execution_count": 64,
   "metadata": {},
   "outputs": [
    {
     "name": "stdout",
     "output_type": "stream",
     "text": [
      "net\n"
     ]
    }
   ],
   "source": [
    "print((it_job['technical_skill'][0][1]))"
   ]
  },
  {
   "cell_type": "code",
   "execution_count": 65,
   "metadata": {},
   "outputs": [
    {
     "data": {
      "text/plain": [
       "0       [c#, net, ms, azure, aspnet, aspnet, mvc, wpf,...\n",
       "1       [java, spring, spring, boot, oop, database, de...\n",
       "2                                [salesforce, javascript]\n",
       "3       [javascript, reactjs, html5, css3, scss, sass,...\n",
       "4                            [product, development, jira]\n",
       "                              ...                        \n",
       "2165                    [c, embedded, algorithm, autosar]\n",
       "2166    [net, c#, ios, jira, visual, studio, git, mvvm...\n",
       "2167    [python, tester, automation, testing, java, ja...\n",
       "2168    [devops, aws, cicd, java, net, maven, networki...\n",
       "2169    [java, python, golang, websocket, csdl, nosql,...\n",
       "Name: technical_skill, Length: 2170, dtype: object"
      ]
     },
     "execution_count": 65,
     "metadata": {},
     "output_type": "execute_result"
    }
   ],
   "source": [
    "it_job['technical_skill'] "
   ]
  },
  {
   "cell_type": "code",
   "execution_count": 66,
   "metadata": {},
   "outputs": [
    {
     "name": "stdout",
     "output_type": "stream",
     "text": [
      "net\n"
     ]
    }
   ],
   "source": [
    "print((it_job['technical_skill'][0][1]))"
   ]
  },
  {
   "cell_type": "code",
   "execution_count": 68,
   "metadata": {},
   "outputs": [],
   "source": [
    "it_job.to_csv('clean_it_job.csv', index = False)"
   ]
  },
  {
   "cell_type": "code",
   "execution_count": 2,
   "metadata": {},
   "outputs": [
    {
     "name": "stdout",
     "output_type": "stream",
     "text": [
      "<class 'pandas.core.frame.DataFrame'>\n",
      "RangeIndex: 2170 entries, 0 to 2169\n",
      "Data columns (total 9 columns):\n",
      " #   Column           Non-Null Count  Dtype \n",
      "---  ------           --------------  ----- \n",
      " 0   title            2170 non-null   object\n",
      " 1   company          2170 non-null   object\n",
      " 2   requirement      1654 non-null   object\n",
      " 3   salary           2170 non-null   object\n",
      " 4   technical_skill  2170 non-null   object\n",
      " 5   location         2170 non-null   object\n",
      " 6   working_time     2170 non-null   object\n",
      " 7   image_url        2170 non-null   object\n",
      " 8   job_url          2170 non-null   object\n",
      "dtypes: object(9)\n",
      "memory usage: 152.7+ KB\n"
     ]
    }
   ],
   "source": [
    "import pandas as pd\n",
    "df = pd.read_csv('clean_it_job.csv')\n",
    "df.info()"
   ]
  }
 ],
 "metadata": {
  "kernelspec": {
   "display_name": "Python 3",
   "language": "python",
   "name": "python3"
  },
  "language_info": {
   "codemirror_mode": {
    "name": "ipython",
    "version": 3
   },
   "file_extension": ".py",
   "mimetype": "text/x-python",
   "name": "python",
   "nbconvert_exporter": "python",
   "pygments_lexer": "ipython3",
   "version": "3.10.11"
  }
 },
 "nbformat": 4,
 "nbformat_minor": 2
}
