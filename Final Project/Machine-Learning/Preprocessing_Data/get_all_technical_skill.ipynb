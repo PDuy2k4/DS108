{
 "cells": [
  {
   "cell_type": "code",
   "execution_count": 1,
   "metadata": {},
   "outputs": [],
   "source": [
    "import pandas as pd \n",
    "import re "
   ]
  },
  {
   "cell_type": "code",
   "execution_count": 2,
   "metadata": {},
   "outputs": [],
   "source": [
    "data = pd.read_csv(r'C:\\Users\\Hua Tan Sang\\Documents\\Personal\\UIT\\Tài liệu\\Năm 2\\Tiền xử lý và xây dựng bộ dữ liệu\\Thực hành Tiền xử lý và xây dựng bộ dữ liệu\\Final_Project\\it_job_preprocess\\clean_it_job.csv')"
   ]
  },
  {
   "cell_type": "code",
   "execution_count": 3,
   "metadata": {},
   "outputs": [
    {
     "data": {
      "text/html": [
       "<div>\n",
       "<style scoped>\n",
       "    .dataframe tbody tr th:only-of-type {\n",
       "        vertical-align: middle;\n",
       "    }\n",
       "\n",
       "    .dataframe tbody tr th {\n",
       "        vertical-align: top;\n",
       "    }\n",
       "\n",
       "    .dataframe thead th {\n",
       "        text-align: right;\n",
       "    }\n",
       "</style>\n",
       "<table border=\"1\" class=\"dataframe\">\n",
       "  <thead>\n",
       "    <tr style=\"text-align: right;\">\n",
       "      <th></th>\n",
       "      <th>Unnamed: 0</th>\n",
       "      <th>title</th>\n",
       "      <th>company</th>\n",
       "      <th>requirement</th>\n",
       "      <th>salary</th>\n",
       "      <th>technical_skill</th>\n",
       "      <th>location</th>\n",
       "      <th>working_time</th>\n",
       "      <th>image_url</th>\n",
       "      <th>job_url</th>\n",
       "    </tr>\n",
       "  </thead>\n",
       "  <tbody>\n",
       "    <tr>\n",
       "      <th>0</th>\n",
       "      <td>0</td>\n",
       "      <td>Senior C# Fullstack Developer</td>\n",
       "      <td>TOG recruitment</td>\n",
       "      <td>['Must have', 'Above 8 years of experience in ...</td>\n",
       "      <td>Up to 70000000VND</td>\n",
       "      <td>['c#', '.net', 'ms', 'azure', 'asp.net', 'asp....</td>\n",
       "      <td>Quận 3, TP Hồ Chí Minh</td>\n",
       "      <td>Full Time</td>\n",
       "      <td>https://www.itjobs.com.vn/upload/Employer/TOG-...</td>\n",
       "      <td>https://www.itjobs.com.vn/en/job/81250/senior-...</td>\n",
       "    </tr>\n",
       "    <tr>\n",
       "      <th>1</th>\n",
       "      <td>1</td>\n",
       "      <td>Senior Java Backend Developer</td>\n",
       "      <td>Dr.JOY</td>\n",
       "      <td>['Must have', 'Java (8 or more) - 5 years of e...</td>\n",
       "      <td>Up to 2000</td>\n",
       "      <td>['java', 'spring', 'spring', 'boot', 'oop', 'd...</td>\n",
       "      <td>Cầu Giấy, Hà Nội</td>\n",
       "      <td>Full Time</td>\n",
       "      <td>https://www.itjobs.com.vn/upload/Employer/Dr.J...</td>\n",
       "      <td>https://www.itjobs.com.vn/en/job/81724/senior-...</td>\n",
       "    </tr>\n",
       "    <tr>\n",
       "      <th>2</th>\n",
       "      <td>2</td>\n",
       "      <td>Salesforce Marketing Cloud Consultant</td>\n",
       "      <td>Clever Age</td>\n",
       "      <td>['Graduated from an engineering school or univ...</td>\n",
       "      <td>Negotiable</td>\n",
       "      <td>['salesforce', 'javascript']</td>\n",
       "      <td>Quận 3, TP Hồ Chí Minh</td>\n",
       "      <td>Full Time</td>\n",
       "      <td>https://www.itjobs.com.vn/upload/Employer/Clev...</td>\n",
       "      <td>https://www.itjobs.com.vn/en/job/81725/salesfo...</td>\n",
       "    </tr>\n",
       "    <tr>\n",
       "      <th>3</th>\n",
       "      <td>3</td>\n",
       "      <td>Frontend Developer</td>\n",
       "      <td>Fastboy Marketing</td>\n",
       "      <td>['Must have', 'Proficient in React stack (Reac...</td>\n",
       "      <td>Negotiable</td>\n",
       "      <td>['javascript', 'reactjs', 'html5', 'css3', 'sc...</td>\n",
       "      <td>Tan Phu, TP Hồ Chí Minh</td>\n",
       "      <td>Full Time</td>\n",
       "      <td>https://www.itjobs.com.vn/upload/Employer/Fast...</td>\n",
       "      <td>https://www.itjobs.com.vn/en/job/81726/fronten...</td>\n",
       "    </tr>\n",
       "    <tr>\n",
       "      <th>4</th>\n",
       "      <td>4</td>\n",
       "      <td>Senior Product Owner</td>\n",
       "      <td>One Mount Group</td>\n",
       "      <td>['Minimum of 5 years of product management exp...</td>\n",
       "      <td>Negotiable</td>\n",
       "      <td>['product', 'development', 'jira']</td>\n",
       "      <td>Hoàn Kiếm, Hà Nội</td>\n",
       "      <td>Full Time</td>\n",
       "      <td>https://www.itjobs.com.vn/upload/Employer/One-...</td>\n",
       "      <td>https://www.itjobs.com.vn/en/job/81727/senior-...</td>\n",
       "    </tr>\n",
       "  </tbody>\n",
       "</table>\n",
       "</div>"
      ],
      "text/plain": [
       "   Unnamed: 0                                  title            company  \\\n",
       "0           0          Senior C# Fullstack Developer    TOG recruitment   \n",
       "1           1          Senior Java Backend Developer             Dr.JOY   \n",
       "2           2  Salesforce Marketing Cloud Consultant         Clever Age   \n",
       "3           3                     Frontend Developer  Fastboy Marketing   \n",
       "4           4                   Senior Product Owner    One Mount Group   \n",
       "\n",
       "                                         requirement             salary  \\\n",
       "0  ['Must have', 'Above 8 years of experience in ...  Up to 70000000VND   \n",
       "1  ['Must have', 'Java (8 or more) - 5 years of e...         Up to 2000   \n",
       "2  ['Graduated from an engineering school or univ...         Negotiable   \n",
       "3  ['Must have', 'Proficient in React stack (Reac...         Negotiable   \n",
       "4  ['Minimum of 5 years of product management exp...         Negotiable   \n",
       "\n",
       "                                     technical_skill                 location  \\\n",
       "0  ['c#', '.net', 'ms', 'azure', 'asp.net', 'asp....   Quận 3, TP Hồ Chí Minh   \n",
       "1  ['java', 'spring', 'spring', 'boot', 'oop', 'd...         Cầu Giấy, Hà Nội   \n",
       "2                       ['salesforce', 'javascript']   Quận 3, TP Hồ Chí Minh   \n",
       "3  ['javascript', 'reactjs', 'html5', 'css3', 'sc...  Tan Phu, TP Hồ Chí Minh   \n",
       "4                 ['product', 'development', 'jira']        Hoàn Kiếm, Hà Nội   \n",
       "\n",
       "  working_time                                          image_url  \\\n",
       "0    Full Time  https://www.itjobs.com.vn/upload/Employer/TOG-...   \n",
       "1    Full Time  https://www.itjobs.com.vn/upload/Employer/Dr.J...   \n",
       "2    Full Time  https://www.itjobs.com.vn/upload/Employer/Clev...   \n",
       "3    Full Time  https://www.itjobs.com.vn/upload/Employer/Fast...   \n",
       "4    Full Time  https://www.itjobs.com.vn/upload/Employer/One-...   \n",
       "\n",
       "                                             job_url  \n",
       "0  https://www.itjobs.com.vn/en/job/81250/senior-...  \n",
       "1  https://www.itjobs.com.vn/en/job/81724/senior-...  \n",
       "2  https://www.itjobs.com.vn/en/job/81725/salesfo...  \n",
       "3  https://www.itjobs.com.vn/en/job/81726/fronten...  \n",
       "4  https://www.itjobs.com.vn/en/job/81727/senior-...  "
      ]
     },
     "execution_count": 3,
     "metadata": {},
     "output_type": "execute_result"
    }
   ],
   "source": [
    "data.head()"
   ]
  },
  {
   "cell_type": "code",
   "execution_count": 4,
   "metadata": {},
   "outputs": [
    {
     "name": "stdout",
     "output_type": "stream",
     "text": [
      "<class 'str'>\n"
     ]
    }
   ],
   "source": [
    "print(type(data['technical_skill'][0]))"
   ]
  },
  {
   "cell_type": "code",
   "execution_count": 5,
   "metadata": {},
   "outputs": [],
   "source": [
    "def split_by_skill(skill_string):\n",
    "    cleaned_string = skill_string.strip(\"[]\").replace(\"'\", \"\")\n",
    "    skill_list = [s.strip() for s in cleaned_string.split(',')]\n",
    "\n",
    "    return skill_list"
   ]
  },
  {
   "cell_type": "code",
   "execution_count": 6,
   "metadata": {},
   "outputs": [],
   "source": [
    "data['technical_skill'] = data['technical_skill'].apply(split_by_skill)"
   ]
  },
  {
   "cell_type": "code",
   "execution_count": 7,
   "metadata": {},
   "outputs": [
    {
     "name": "stdout",
     "output_type": "stream",
     "text": [
      "<class 'list'>\n"
     ]
    }
   ],
   "source": [
    "print(type(data['technical_skill'][0]))"
   ]
  },
  {
   "cell_type": "code",
   "execution_count": 8,
   "metadata": {},
   "outputs": [
    {
     "name": "stdout",
     "output_type": "stream",
     "text": [
      "['c#', '.net', 'ms', 'azure', 'asp.net', 'asp.net', 'mvc', 'wpf', 'ms', 'sql', 'github', 'ms', 'azure', 'aws', 'reactjs', 'angular2', '.net', 'core', 'azure', 'cosmos', 'db', 'azure', 'devops', 'blazor']\n"
     ]
    }
   ],
   "source": [
    "print((data['technical_skill'][0]))"
   ]
  },
  {
   "cell_type": "code",
   "execution_count": 9,
   "metadata": {},
   "outputs": [],
   "source": [
    "def remove_special_chars(skill_list):\n",
    "    pattern = r'[^a-zA-Z0-9+# ]'\n",
    "    processed_strings = [re.sub(pattern, '', s).strip() for s in skill_list]\n",
    "    \n",
    "    return processed_strings"
   ]
  },
  {
   "cell_type": "code",
   "execution_count": 10,
   "metadata": {},
   "outputs": [],
   "source": [
    "data['technical_skill'] = data['technical_skill'].apply(remove_special_chars)"
   ]
  },
  {
   "cell_type": "code",
   "execution_count": 11,
   "metadata": {},
   "outputs": [
    {
     "name": "stdout",
     "output_type": "stream",
     "text": [
      "['c#', 'net', 'ms', 'azure', 'aspnet', 'aspnet', 'mvc', 'wpf', 'ms', 'sql', 'github', 'ms', 'azure', 'aws', 'reactjs', 'angular2', 'net', 'core', 'azure', 'cosmos', 'db', 'azure', 'devops', 'blazor']\n"
     ]
    }
   ],
   "source": [
    "print((data['technical_skill'][0]))"
   ]
  },
  {
   "cell_type": "code",
   "execution_count": 12,
   "metadata": {},
   "outputs": [
    {
     "name": "stdout",
     "output_type": "stream",
     "text": [
      "sql\n"
     ]
    }
   ],
   "source": [
    "print((data['technical_skill'][0][9]))"
   ]
  },
  {
   "cell_type": "code",
   "execution_count": 13,
   "metadata": {},
   "outputs": [],
   "source": [
    "def get_technical_skill(sr):\n",
    "    tech_list = []\n",
    "    for i in range(len(sr)):\n",
    "        for j in range(len(sr[i])):\n",
    "            tech_list.append(sr[i][j])\n",
    "    return tech_list\n"
   ]
  },
  {
   "cell_type": "code",
   "execution_count": 14,
   "metadata": {},
   "outputs": [],
   "source": [
    "technical_list = get_technical_skill(data['technical_skill'])"
   ]
  },
  {
   "cell_type": "code",
   "execution_count": 15,
   "metadata": {},
   "outputs": [],
   "source": [
    "technical_list = list(set(technical_list))"
   ]
  },
  {
   "cell_type": "code",
   "execution_count": 16,
   "metadata": {},
   "outputs": [
    {
     "name": "stdout",
     "output_type": "stream",
     "text": [
      "Danh sách đã được ghi vào tệp technical_list.csv\n"
     ]
    }
   ],
   "source": [
    "import csv \n",
    "# Danh sách cần chuyển đổi\n",
    "\n",
    "# Mở hoặc tạo tệp CSV để ghi dữ liệu\n",
    "with open('techcical_list.csv', mode='w', newline='') as file:\n",
    "    writer = csv.writer(file)\n",
    "    \n",
    "    # Ghi từng phần tử của danh sách thành một dòng riêng biệt\n",
    "    for item in technical_list:\n",
    "        writer.writerow([item])\n",
    "\n",
    "print(\"Danh sách đã được ghi vào tệp technical_list.csv\")"
   ]
  }
 ],
 "metadata": {
  "kernelspec": {
   "display_name": "Python 3",
   "language": "python",
   "name": "python3"
  },
  "language_info": {
   "codemirror_mode": {
    "name": "ipython",
    "version": 3
   },
   "file_extension": ".py",
   "mimetype": "text/x-python",
   "name": "python",
   "nbconvert_exporter": "python",
   "pygments_lexer": "ipython3",
   "version": "3.10.11"
  }
 },
 "nbformat": 4,
 "nbformat_minor": 2
}
