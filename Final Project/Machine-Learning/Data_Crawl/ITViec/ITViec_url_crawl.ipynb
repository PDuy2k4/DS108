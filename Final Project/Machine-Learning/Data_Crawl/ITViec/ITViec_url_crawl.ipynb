{
 "cells": [
  {
   "cell_type": "code",
   "execution_count": 1,
   "metadata": {},
   "outputs": [],
   "source": [
    "from selenium import webdriver\n",
    "from selenium.webdriver import ActionChains \n",
    "from selenium.webdriver.chrome.options import Options\n",
    "from selenium.webdriver.common.by import By \n",
    "from selenium.webdriver.common.keys import Keys\n",
    "from selenium.webdriver import ActionChains\n",
    "\n",
    "import time\n",
    "import json\n",
    "import pandas as pd \n"
   ]
  },
  {
   "cell_type": "code",
   "execution_count": 2,
   "metadata": {},
   "outputs": [],
   "source": [
    "# Enter website \n",
    "options = Options()\n",
    "service = webdriver.ChromeService(executable_path= 'C:\\driver\\chromedriver.exe')"
   ]
  },
  {
   "cell_type": "code",
   "execution_count": 11,
   "metadata": {},
   "outputs": [],
   "source": [
    "url_sp = []\n",
    "\n",
    "# Lặp qua các trang từ 1 đến 31\n",
    "for page_number in range(6, 45):\n",
    "    driver = webdriver.Chrome(service= service, options=options)\n",
    "    # Tạo URL mới với số trang thay thế\n",
    "    url = \"https://itviec.com/it-jobs?job_selected=senior-devsecops-engineer-python-nab-innovation-centre-vietnam-2906&page=\" + str(page_number)\n",
    "    \n",
    "    # Mở URL trong trình duyệt\n",
    "    driver.get(url)\n",
    "    \n",
    "    time.sleep(1) \n",
    "    elements = driver.find_elements(By.XPATH, \"//h3[@class='imt-3']//a\")\n",
    "        \n",
    "    for element in elements:\n",
    "        href_value = element.get_attribute(\"href\")\n",
    "        url_sp.append(href_value)\n",
    "    driver.quit()\n"
   ]
  },
  {
   "cell_type": "code",
   "execution_count": 9,
   "metadata": {},
   "outputs": [
    {
     "name": "stdout",
     "output_type": "stream",
     "text": [
      "['https://itviec.com/it-jobs/connected-car-cloud-product-manager-personify-incorporation-3428?lab_feature=preview_jd_page', 'https://itviec.com/it-jobs/automotive-mobile-application-product-manager-personify-incorporation-2826?lab_feature=preview_jd_page', 'https://itviec.com/it-jobs/technical-lead-server-side-b2b-saas-raksul-vietnam-5400?lab_feature=preview_jd_page', 'https://itviec.com/it-jobs/python-team-lead-dev-javascript-linux-vietsoftpro-3943?lab_feature=preview_jd_page', 'https://itviec.com/it-jobs/solution-architect-technical-architect-tyme-3936?lab_feature=preview_jd_page', 'https://itviec.com/it-jobs/middle-senior-backend-developer-python-hdbank-4247?lab_feature=preview_jd_page', 'https://itviec.com/it-jobs/java-team-leader-digital-core-though-machine-project-hdbank-4203?lab_feature=preview_jd_page', 'https://itviec.com/it-jobs/ito-project-manager-fluent-korean-english-cj-olivenetworks-vina-co-ltd-1521?lab_feature=preview_jd_page', 'https://itviec.com/it-jobs/backend-dev-php-laravel-up-to-2000-itz-2052?lab_feature=preview_jd_page', 'https://itviec.com/it-jobs/fullstack-mobile-developer-flutter-ios-android-itz-2204?lab_feature=preview_jd_page', 'https://itviec.com/it-jobs/qa-automation-engineer-qa-qc-tester-mealsuite-0000?lab_feature=preview_jd_page', 'https://itviec.com/it-jobs/ruby-on-rails-developer-ruby-sql-mealsuite-5941?lab_feature=preview_jd_page', 'https://itviec.com/it-jobs/10-senior-c-net-developer-nodejs-song-technologies-llc-4000?lab_feature=preview_jd_page', 'https://itviec.com/it-jobs/senior-expert-aws-cloud-engineer-smg-swiss-marketplace-group-3344?lab_feature=preview_jd_page', 'https://itviec.com/it-jobs/senior-expert-site-reliability-engineer-aws-smg-swiss-marketplace-group-2724?lab_feature=preview_jd_page', 'https://itviec.com/it-jobs/game-planner-level-design-and-system-planning-glohow-3647?lab_feature=preview_jd_page', 'https://itviec.com/it-jobs/web3-information-technology-manager-it-manager-az-digital-asset-group-4841?lab_feature=preview_jd_page', 'https://itviec.com/it-jobs/automotive-software-engineer-c-linux-oop-lg-electronics-development-vietnam-lgedv-3642?lab_feature=preview_jd_page', 'https://itviec.com/it-jobs/middle-senior-automation-qa-java-selenium-noveo-vietnam-0327?lab_feature=preview_jd_page', 'https://itviec.com/it-jobs/hcm-dn-hybrid-senior-automation-tester-kms-technology-2809?lab_feature=preview_jd_page', 'https://itviec.com/it-jobs/it-support-engineer-senior-ol-vietnam-2504?lab_feature=preview_jd_page', 'https://itviec.com/it-jobs/middle-senior-backend-developer-java-developer-mb-ageas-life-4818?lab_feature=preview_jd_page', 'https://itviec.com/it-jobs/ai-engineer-python-ml-ai-solidity-bitcoin-builders-3930?lab_feature=preview_jd_page', 'https://itviec.com/it-jobs/r-d-engineer-leader-c-c-up-to-2-500-lg-electronics-development-vietnam-lgedv-5345?lab_feature=preview_jd_page', 'https://itviec.com/it-jobs/senior-devsecops-engineer-python-nab-innovation-centre-vietnam-2906?lab_feature=preview_jd_page', 'https://itviec.com/it-jobs/hn-section-manager-product-manager-java-agile-money-forward-vietnam-co-ltd-3227?lab_feature=preview_jd_page', 'https://itviec.com/it-jobs/it-support-specialist-bosch-global-software-technologies-company-limited-5952?lab_feature=preview_jd_page', 'https://itviec.com/it-jobs/senior-product-designer-optimizely-formerly-episerver-3538?lab_feature=preview_jd_page', 'https://itviec.com/it-jobs/data-scientist-business-analyst-abbank-4204?lab_feature=preview_jd_page', 'https://itviec.com/it-jobs/data-architecture-database-cloud-abbank-3730?lab_feature=preview_jd_page', 'https://itviec.com/it-jobs/chuyen-gia-trien-khai-ung-dung-devsecops-abbank-3723?lab_feature=preview_jd_page', 'https://itviec.com/it-jobs/solution-architect-cloud-java-agile-abbank-2738?lab_feature=preview_jd_page', 'https://itviec.com/it-jobs/architect-application-solution-abbank-1915?lab_feature=preview_jd_page', 'https://itviec.com/it-jobs/network-engineer-cloud-aws-abbank-0157?lab_feature=preview_jd_page', 'https://itviec.com/it-jobs/cloud-system-admin-aws-azure-sql-abbank-4553?lab_feature=preview_jd_page', 'https://itviec.com/it-jobs/database-administration-oracle-sql-server-abbank-3303?lab_feature=preview_jd_page', 'https://itviec.com/it-jobs/ruby-on-rails-engineer-mysql-aws-agile-english-giftee-tech-vietnam-1625?lab_feature=preview_jd_page', 'https://itviec.com/it-jobs/technical-lead-devops-azure-cloud-simpson-strong-tie-vietnam-1352?lab_feature=preview_jd_page', 'https://itviec.com/it-jobs/quan-tri-co-so-du-lieu-ngan-hang-tmcp-thinh-vuong-va-phat-trien-pgbank-3225?lab_feature=preview_jd_page', 'https://itviec.com/it-jobs/senior-machine-learning-engineer-python-c-earable-vietnam-2248?lab_feature=preview_jd_page', 'https://itviec.com/it-jobs/senior-devops-engineer-gearment-llc-4653?lab_feature=preview_jd_page', 'https://itviec.com/it-jobs/senior-qc-engineer-automation-test-agile-gearment-llc-3054?lab_feature=preview_jd_page', 'https://itviec.com/it-jobs/product-owner-gearment-llc-4553?lab_feature=preview_jd_page', 'https://itviec.com/it-jobs/back-end-developer-golang-python-reactjs-nodejs-gearment-llc-3037?lab_feature=preview_jd_page', 'https://itviec.com/it-jobs/2d-game-designer-upto-5000-wintex-support-1712?lab_feature=preview_jd_page', 'https://itviec.com/it-jobs/2d-game-artist-5-headcount-wintex-support-4605?lab_feature=preview_jd_page', 'https://itviec.com/it-jobs/ky-su-lap-trinh-robot-13t-luong-viettel-post-a-member-of-viettel-group-4844?lab_feature=preview_jd_page', 'https://itviec.com/it-jobs/global-market-ruby-developer-ruby-on-rails-rikkeisoft-5454?lab_feature=preview_jd_page', 'https://itviec.com/it-jobs/c-developer-up-to-2500-fpt-software-5109?lab_feature=preview_jd_page', 'https://itviec.com/it-jobs/net-tech-lead-asp-net-c-niteco-vietnam-co-ltd-2253?lab_feature=preview_jd_page', 'https://itviec.com/it-jobs/senior-qa-automation-engineer-java-selenium-testng-code88-company-limited-2552?lab_feature=preview_jd_page', 'https://itviec.com/it-jobs/senior-junior-java-backend-developer-java-english-tpisoftware-co-ltd-2525?lab_feature=preview_jd_page', 'https://itviec.com/it-jobs/java-backend-developer-mobile-bank-tpisoftware-co-ltd-3309?lab_feature=preview_jd_page', 'https://itviec.com/it-jobs/java-backend-engineer-middle-senior-playstudios-1817?lab_feature=preview_jd_page', 'https://itviec.com/it-jobs/automation-qa-software-tester-selenium-java-hrs-group-5133?lab_feature=preview_jd_page', 'https://itviec.com/it-jobs/project-manager-games-mirai-labs-4129?lab_feature=preview_jd_page', 'https://itviec.com/it-jobs/games-and-software-tester-mirai-labs-4258?lab_feature=preview_jd_page', 'https://itviec.com/it-jobs/da-nang-qa-engineer-one-tech-stop-vietnam-company-ltd-0503?lab_feature=preview_jd_page', 'https://itviec.com/it-jobs/da-nang-it-tester-qa-qc-pasona-tech-viet-nam-2112?lab_feature=preview_jd_page', 'https://itviec.com/it-jobs/da-nang-web-application-developer-php-net-nodejs-pasona-tech-viet-nam-1821?lab_feature=preview_jd_page', 'https://itviec.com/it-jobs/senior-salesforce-developer-megazone-2809?lab_feature=preview_jd_page', 'https://itviec.com/it-jobs/java-technical-lead-secutix-5739?lab_feature=preview_jd_page', 'https://itviec.com/it-jobs/da-nang-full-stack-developer-react-js-node-js-one-tech-stop-vietnam-company-ltd-5455?lab_feature=preview_jd_page', 'https://itviec.com/it-jobs/senior-net-developer-24hr-recruitment-campaign-elca-0120?lab_feature=preview_jd_page', 'https://itviec.com/it-jobs/senior-junior-tester-tpisoftware-co-ltd-2424?lab_feature=preview_jd_page', 'https://itviec.com/it-jobs/sr-backend-software-engineer-zien-solutions-2352?lab_feature=preview_jd_page', 'https://itviec.com/it-jobs/senior-front-end-engineer-mobile-app-team-flutter-zien-solutions-2320?lab_feature=preview_jd_page', 'https://itviec.com/it-jobs/product-manager-trin-tech-4717?lab_feature=preview_jd_page', 'https://itviec.com/it-jobs/senior-backend-developer-golang-nodejs-english-relia-software-1159?lab_feature=preview_jd_page', 'https://itviec.com/it-jobs/senior-software-engineer-php-javascript-english-geocomply-geotech-hub-vietnam-1830?lab_feature=preview_jd_page', 'https://itviec.com/it-jobs/java-developer-sql-spring-vetc-viet-nam-joint-stock-company-1213?lab_feature=preview_jd_page', 'https://itviec.com/it-jobs/senior-java-developers-dek-technologies-0027?lab_feature=preview_jd_page', 'https://itviec.com/it-jobs/gapky-su-cau-noi-brse-bridge-engineer-neos-viet-nam-0701?lab_feature=preview_jd_page', 'https://itviec.com/it-jobs/hanoi_embedded-software-developer-c-language-bosch-global-software-technologies-company-limited-2649?lab_feature=preview_jd_page', 'https://itviec.com/it-jobs/hn_automotive-android-platform-engineer-bosch-global-software-technologies-company-limited-2508?lab_feature=preview_jd_page', 'https://itviec.com/it-jobs/hanoi_embedded-software-engineer-multimedia-audio-bosch-global-software-technologies-company-limited-2622?lab_feature=preview_jd_page', 'https://itviec.com/it-jobs/php-developer-ambition-vietnam-3836?lab_feature=preview_jd_page', 'https://itviec.com/it-jobs/sr-fullstack-lead-backend-nodejs-javascript-silicon-prime-labs-0846?lab_feature=preview_jd_page', 'https://itviec.com/it-jobs/japanese-technical-leader-swat-team-hitachi-digital-services-0540?lab_feature=preview_jd_page', 'https://itviec.com/it-jobs/system-engineer-skylab-3030?lab_feature=preview_jd_page']\n"
     ]
    }
   ],
   "source": [
    "print(url_sp)"
   ]
  },
  {
   "cell_type": "code",
   "execution_count": 12,
   "metadata": {},
   "outputs": [
    {
     "name": "stdout",
     "output_type": "stream",
     "text": [
      "Data written to CSV file successfully!\n"
     ]
    }
   ],
   "source": [
    "import csv\n",
    "\n",
    "# Đường dẫn đến tệp CSV\n",
    "csv_file_path = \"itviec_url.csv\"\n",
    "\n",
    "# Mở tệp CSV với chế độ ghi nối tiếp ('a')\n",
    "with open(csv_file_path, mode='a', newline='') as file:\n",
    "    # Tạo đối tượng writer\n",
    "    writer = csv.writer(file)\n",
    "    \n",
    "    # Ghi từng phần tử của danh sách vào mỗi dòng\n",
    "    for item in url_sp:\n",
    "        writer.writerow([item])\n",
    "\n",
    "print(\"Data written to CSV file successfully!\")"
   ]
  }
 ],
 "metadata": {
  "kernelspec": {
   "display_name": "Python 3",
   "language": "python",
   "name": "python3"
  },
  "language_info": {
   "codemirror_mode": {
    "name": "ipython",
    "version": 3
   },
   "file_extension": ".py",
   "mimetype": "text/x-python",
   "name": "python",
   "nbconvert_exporter": "python",
   "pygments_lexer": "ipython3",
   "version": "3.10.11"
  }
 },
 "nbformat": 4,
 "nbformat_minor": 2
}
