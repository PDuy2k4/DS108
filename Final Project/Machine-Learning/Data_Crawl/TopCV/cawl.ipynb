{
 "cells": [
  {
   "cell_type": "code",
   "execution_count": 1,
   "metadata": {},
   "outputs": [],
   "source": [
    "from selenium import webdriver\n",
    "from selenium.webdriver import ActionChains \n",
    "from selenium.webdriver.chrome.options import Options\n",
    "from selenium.webdriver.common.by import By \n",
    "from selenium.webdriver.common.keys import Keys\n",
    "from selenium.webdriver import ActionChains\n",
    "\n",
    "import time\n",
    "import json\n",
    "import pandas as pd \n"
   ]
  },
  {
   "cell_type": "code",
   "execution_count": 2,
   "metadata": {},
   "outputs": [],
   "source": [
    "# Enter website \n",
    "options = Options()\n",
    "# options.add_argument(\"--lang=en\")\n",
    "# options.add_argument(r'user-data-dir=C:\\User Data') \n",
    "# options.add_argument('profile-directory=Default')\n",
    "\n",
    "# prefs = {\n",
    "#     \"translate_whitelists\": {\"vi\": \"en\"},\n",
    "#     \"translate\":{\"enable\": \"true\"}\n",
    "# }\n",
    "\n",
    "# options.add_experimental_option(\"prefs\", prefs)\n",
    "\n",
    "service = webdriver.ChromeService(executable_path=  'C:\\driver\\chromedriver.exe')"
   ]
  },
  {
   "cell_type": "code",
   "execution_count": 3,
   "metadata": {},
   "outputs": [],
   "source": [
    "\n",
    "url_sp = []\n",
    "\n",
    "\n",
    "# Lặp qua các trang từ 1 đến 31\n",
    "for page_number in range(1, 5):\n",
    "    driver = webdriver.Chrome(service= service, options=options)\n",
    "    # Tạo URL mới với số trang thay thế\n",
    "    url = f\"https://www.topcv.vn/tim-viec-lam-backend-developer?page={page_number}\"\n",
    "    \n",
    "    # Mở URL trong trình duyệt\n",
    "    driver.get(url)\n",
    "    \n",
    "    # Tạm dừng để chờ tải trang\n",
    "    time.sleep(4)  # Chỉnh thời gian chờ tùy vào tốc độ internet và hiệu suất của trang web\n",
    "    elements = driver.find_elements(By.XPATH, \"//div[@class='avatar']//a\")\n",
    "\n",
    "    for element in elements:\n",
    "    # Lấy giá trị của thuộc tính href\n",
    "        href_value = element.get_attribute(\"href\")\n",
    "        url_sp.append(href_value)\n",
    "    # Thực hiện các hoạt động khác trên trang nếu cần\n",
    "    driver.quit()\n",
    "# Đóng trình duyệt khi hoàn thành\n",
    "\n"
   ]
  },
  {
   "cell_type": "code",
   "execution_count": 4,
   "metadata": {},
   "outputs": [],
   "source": [
    "# "
   ]
  },
  {
   "cell_type": "code",
   "execution_count": 5,
   "metadata": {},
   "outputs": [],
   "source": [
    "# url_sp = []\n",
    "# driver = webdriver.Chrome(service= service, options=options)\n",
    "#     # Tạo URL mới với số trang thay thế\n",
    "# url = \"https://www.topcv.vn/tim-viec-lam-embedded-software-engineer\"\n",
    "    \n",
    "#     # Mở URL trong trình duyệt\n",
    "# driver.get(url)\n",
    "# time.sleep(5)\n",
    "# elements = driver.find_elements(By.XPATH, \"//div[@class='avatar']//a\")\n",
    "\n",
    "# for element in elements:\n",
    "# # Lấy giá trị của thuộc tính href\n",
    "#     href_value = element.get_attribute(\"href\")\n",
    "#     url_sp.append(href_value)\n",
    "# driver.quit()"
   ]
  },
  {
   "cell_type": "code",
   "execution_count": 6,
   "metadata": {},
   "outputs": [
    {
     "name": "stdout",
     "output_type": "stream",
     "text": [
      "Data written to CSV file successfully!\n"
     ]
    }
   ],
   "source": [
    "import csv\n",
    "\n",
    "# Đường dẫn đến tệp CSV\n",
    "csv_file_path = \"url.csv\"\n",
    "\n",
    "# Mở tệp CSV với chế độ ghi nối tiếp ('a')\n",
    "with open(csv_file_path, mode='a', newline='') as file:\n",
    "    # Tạo đối tượng writer\n",
    "    writer = csv.writer(file)\n",
    "    \n",
    "    # Ghi từng phần tử của danh sách vào mỗi dòng\n",
    "    for item in url_sp:\n",
    "        writer.writerow([item])\n",
    "\n",
    "print(\"Data written to CSV file successfully!\")"
   ]
  },
  {
   "cell_type": "code",
   "execution_count": 7,
   "metadata": {},
   "outputs": [
    {
     "name": "stdout",
     "output_type": "stream",
     "text": [
      "197\n",
      "197\n"
     ]
    }
   ],
   "source": [
    "print(len(url_sp))\n",
    "print(len(set(url_sp)))"
   ]
  }
 ],
 "metadata": {
  "kernelspec": {
   "display_name": "Python 3",
   "language": "python",
   "name": "python3"
  },
  "language_info": {
   "codemirror_mode": {
    "name": "ipython",
    "version": 3
   },
   "file_extension": ".py",
   "mimetype": "text/x-python",
   "name": "python",
   "nbconvert_exporter": "python",
   "pygments_lexer": "ipython3",
   "version": "3.10.11"
  }
 },
 "nbformat": 4,
 "nbformat_minor": 2
}
