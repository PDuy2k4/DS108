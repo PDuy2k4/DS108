{
 "cells": [
  {
   "cell_type": "code",
   "execution_count": 6,
   "metadata": {},
   "outputs": [],
   "source": [
    "from selenium import webdriver\n",
    "from selenium.webdriver.chrome.options import Options\n",
    "from selenium.webdriver.common.by import By\n",
    "import time"
   ]
  },
  {
   "cell_type": "code",
   "execution_count": 7,
   "metadata": {},
   "outputs": [],
   "source": [
    "options = Options()\n",
    "cService = webdriver.ChromeService(executable_path=\"..\\chromedriver.exe\")"
   ]
  },
  {
   "cell_type": "code",
   "execution_count": 8,
   "metadata": {},
   "outputs": [],
   "source": [
    "nodeflair_url = []\n",
    "\n",
    "for i in range (1, 93):\n",
    "\n",
    "    driver = webdriver.Chrome(service = cService, options = options)\n",
    "\n",
    "    driver.get(f\"https://nodeflair.com/jobs?query=&page={i}&sort_by=relevant&countries%5B%5D=Vietnam\")\n",
    "    time.sleep(1.5)\n",
    "    for j in range (0, 12):\n",
    "        try:\n",
    "            element = driver.find_element(By.XPATH, f'/html/body/div[4]/div[2]/div[4]/div[1]/div[{j + 2}]/div/a')\n",
    "            url = element.get_attribute(\"href\")\n",
    "            nodeflair_url.append(url)\n",
    "        except:\n",
    "            continue\n",
    "    driver.quit()"
   ]
  },
  {
   "cell_type": "code",
   "execution_count": 9,
   "metadata": {},
   "outputs": [],
   "source": [
    "import csv\n",
    "\n",
    "# Write to CSV file\n",
    "with open('output.csv', 'w', newline='') as file:\n",
    "    writer = csv.writer(file)\n",
    "    \n",
    "    # Ghi từng phần tử của nodeflair_url vào mỗi dòng riêng lẻ\n",
    "    for url in nodeflair_url:\n",
    "        writer.writerow([url])\n"
   ]
  }
 ],
 "metadata": {
  "kernelspec": {
   "display_name": "Python 3",
   "language": "python",
   "name": "python3"
  },
  "language_info": {
   "codemirror_mode": {
    "name": "ipython",
    "version": 3
   },
   "file_extension": ".py",
   "mimetype": "text/x-python",
   "name": "python",
   "nbconvert_exporter": "python",
   "pygments_lexer": "ipython3",
   "version": "3.10.11"
  }
 },
 "nbformat": 4,
 "nbformat_minor": 2
}
